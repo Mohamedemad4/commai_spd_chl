{
 "cells": [
  {
   "cell_type": "code",
   "execution_count": 2,
   "metadata": {
    "colab": {
     "base_uri": "https://localhost:8080/",
     "height": 35
    },
    "colab_type": "code",
    "id": "aBNyUdS8yxRg",
    "outputId": "af8df085-8dba-42a0-d57a-874805c0e1d0"
   },
   "outputs": [
    {
     "name": "stderr",
     "output_type": "stream",
     "text": [
      "Using TensorFlow backend.\n"
     ]
    }
   ],
   "source": [
    "import keras\n",
    "import numpy as np\n",
    "import tensorflow as tf\n",
    "from keras.models import Sequential,load_model\n",
    "import keras.backend as K\n",
    "from commai_spd_chl_keras_datagen import commai_speed_chl_gen\n",
    "from keras.layers import Dense, Activation,ConvLSTM2D,Lambda,GRU,BatchNormalization,Activation,Flatten,TimeDistributed,Conv2D,MaxPooling3D,MaxPooling2D,LSTM,Reshape,Dropout"
   ]
  },
  {
   "cell_type": "code",
   "execution_count": null,
   "metadata": {},
   "outputs": [],
   "source": [
    "1*1"
   ]
  },
  {
   "cell_type": "code",
   "execution_count": 6,
   "metadata": {
    "colab": {},
    "colab_type": "code",
    "id": "yQK3ta5SllJH"
   },
   "outputs": [
    {
     "name": "stderr",
     "output_type": "stream",
     "text": [
      "  0%|          | 28/20400 [00:00<01:13, 278.09it/s]"
     ]
    },
    {
     "name": "stdout",
     "output_type": "stream",
     "text": [
      "(480, 640, 3)\n",
      "(32, 3, 480, 640)\n",
      "(32, 3, 1)\n",
      "building video Database\n"
     ]
    },
    {
     "name": "stderr",
     "output_type": "stream",
     "text": [
      "100%|██████████| 20400/20400 [01:35<00:00, 213.79it/s]\n"
     ]
    }
   ],
   "source": [
    "#run only once\n",
    "#com_gen=commai_speed_chl_gen()\n",
    "#com_gen.build_video_folder()"
   ]
  },
  {
   "cell_type": "code",
   "execution_count": 2,
   "metadata": {
    "colab": {
     "base_uri": "https://localhost:8080/",
     "height": 90
    },
    "colab_type": "code",
    "id": "8LClTAitllJb",
    "outputId": "50cd9033-1934-4fb8-8765-85ba87a7e227"
   },
   "outputs": [
    {
     "data": {
      "text/plain": [
       "[PhysicalDevice(name='/physical_device:CPU:0', device_type='CPU'),\n",
       " PhysicalDevice(name='/physical_device:XLA_CPU:0', device_type='XLA_CPU'),\n",
       " PhysicalDevice(name='/physical_device:XLA_GPU:0', device_type='XLA_GPU'),\n",
       " PhysicalDevice(name='/physical_device:GPU:0', device_type='GPU')]"
      ]
     },
     "execution_count": 2,
     "metadata": {},
     "output_type": "execute_result"
    }
   ],
   "source": [
    "tf.config.list_physical_devices ()"
   ]
  },
  {
   "cell_type": "code",
   "execution_count": null,
   "metadata": {
    "colab": {
     "base_uri": "https://localhost:8080/",
     "height": 35
    },
    "colab_type": "code",
    "id": "XHpYiMJhyxR-",
    "outputId": "f67a3161-ab5f-4968-c382-249adb19748b"
   },
   "outputs": [],
   "source": [
    "keras.backend.image_data_format()"
   ]
  },
  {
   "cell_type": "code",
   "execution_count": 7,
   "metadata": {
    "colab": {
     "base_uri": "https://localhost:8080/",
     "height": 1000
    },
    "colab_type": "code",
    "id": "QMQQaMUPyxS4",
    "outputId": "7aef6cd7-9428-4a71-e11f-f23ebb495adb",
    "scrolled": false
   },
   "outputs": [
    {
     "name": "stdout",
     "output_type": "stream",
     "text": [
      "Model: \"sequential_1\"\n",
      "_________________________________________________________________\n",
      "Layer (type)                 Output Shape              Param #   \n",
      "=================================================================\n",
      "lambda_1 (Lambda)            (None, 3, 480, 640, 1)    0         \n",
      "_________________________________________________________________\n",
      "time_distributed_1 (TimeDist (None, 3, 480, 640, 16)   272       \n",
      "_________________________________________________________________\n",
      "time_distributed_2 (TimeDist (None, 3, 120, 160, 16)   0         \n",
      "_________________________________________________________________\n",
      "activation_1 (Activation)    (None, 3, 120, 160, 16)   0         \n",
      "_________________________________________________________________\n",
      "conv_lst_m2d_1 (ConvLSTM2D)  (None, 3, 120, 160, 16)   131136    \n",
      "_________________________________________________________________\n",
      "time_distributed_3 (TimeDist (None, 3, 15, 20, 16)     0         \n",
      "_________________________________________________________________\n",
      "dropout_1 (Dropout)          (None, 3, 15, 20, 16)     0         \n",
      "_________________________________________________________________\n",
      "batch_normalization_1 (Batch (None, 3, 15, 20, 16)     64        \n",
      "_________________________________________________________________\n",
      "activation_2 (Activation)    (None, 3, 15, 20, 16)     0         \n",
      "_________________________________________________________________\n",
      "conv_lst_m2d_2 (ConvLSTM2D)  (None, 3, 15, 20, 32)     393344    \n",
      "_________________________________________________________________\n",
      "time_distributed_4 (TimeDist (None, 3, 1, 2, 32)       0         \n",
      "_________________________________________________________________\n",
      "batch_normalization_2 (Batch (None, 3, 1, 2, 32)       128       \n",
      "_________________________________________________________________\n",
      "activation_3 (Activation)    (None, 3, 1, 2, 32)       0         \n",
      "_________________________________________________________________\n",
      "dropout_2 (Dropout)          (None, 3, 1, 2, 32)       0         \n",
      "_________________________________________________________________\n",
      "reshape_1 (Reshape)          (None, 3, 64)             0         \n",
      "_________________________________________________________________\n",
      "batch_normalization_3 (Batch (None, 3, 64)             256       \n",
      "_________________________________________________________________\n",
      "gru_1 (GRU)                  (None, 3, 50)             17250     \n",
      "_________________________________________________________________\n",
      "dense_1 (Dense)              (None, 3, 100)            5100      \n",
      "_________________________________________________________________\n",
      "activation_4 (Activation)    (None, 3, 100)            0         \n",
      "_________________________________________________________________\n",
      "dropout_3 (Dropout)          (None, 3, 100)            0         \n",
      "_________________________________________________________________\n",
      "dense_2 (Dense)              (None, 3, 1)              101       \n",
      "_________________________________________________________________\n",
      "activation_5 (Activation)    (None, 3, 1)              0         \n",
      "=================================================================\n",
      "Total params: 547,651\n",
      "Trainable params: 547,427\n",
      "Non-trainable params: 224\n",
      "_________________________________________________________________\n"
     ]
    }
   ],
   "source": [
    "seq = Sequential()\n",
    "\n",
    "seq.add(Lambda(lambda x:tf.divide(x,255),input_shape=(3,480,640,1))) # Normalize the images between 0-1\n",
    "\n",
    "seq.add(TimeDistributed(Conv2D(filters=16, kernel_size=(4,4), #basically \"resize the images\" since ConvLSTM2Ds are expensive as shit\n",
    "                   padding='same')))\n",
    "seq.add(TimeDistributed(MaxPooling2D(pool_size=(4,4)))) \n",
    "seq.add(Activation(\"relu\"))\n",
    "\n",
    "seq.add(ConvLSTM2D(filters=16, kernel_size=(8,8),\n",
    "                   padding='same',return_sequences=True))\n",
    "seq.add(TimeDistributed(MaxPooling2D(pool_size=(8,8)))) #pool every single dim of shared features \n",
    "seq.add(Dropout(0.3))\n",
    "seq.add(BatchNormalization()) \n",
    "seq.add(Activation(\"relu\"))\n",
    "\n",
    "\n",
    "seq.add(ConvLSTM2D(filters=32,return_sequences=True, kernel_size=(8,8),\n",
    "                   padding='same'))\n",
    "seq.add(TimeDistributed(MaxPooling2D(pool_size=(8,8))))\n",
    "seq.add(BatchNormalization())\n",
    "seq.add(Activation(\"relu\"))\n",
    "seq.add(Dropout(0.2))\n",
    "\n",
    "seq.add(Reshape((3,2*32)))\n",
    "\n",
    "seq.add(BatchNormalization()) #better approch since data can sometimes \"slip\" from the normalization statistics\n",
    "seq.add(GRU(50,activation=\"relu\",return_sequences=True))\n",
    "\n",
    "seq.add(Dense(100,))\n",
    "seq.add(Activation(\"relu\"))\n",
    "seq.add(Dropout(0.1))\n",
    "\n",
    "seq.add(Dense(1))\n",
    "seq.add(Activation(\"relu\"))\n",
    "\n",
    "seq.compile(loss='mse', optimizer='adam')\n",
    "seq.summary()"
   ]
  },
  {
   "cell_type": "code",
   "execution_count": 10,
   "metadata": {
    "colab": {
     "base_uri": "https://localhost:8080/",
     "height": 293
    },
    "colab_type": "code",
    "id": "W3W-nAyBllJ-",
    "outputId": "421f4fef-88d2-4c83-b01f-3753bdc97c3e"
   },
   "outputs": [
    {
     "name": "stdout",
     "output_type": "stream",
     "text": [
      "(480, 640, 3)\n",
      "(32, 3, 480, 640)\n",
      "(32, 3, 1)\n",
      "train_samples: 6000 \n",
      "test_samples:333 \n",
      "valid_samples: 466\n",
      "(480, 640, 3)\n",
      "(32, 3, 480, 640)\n",
      "(32, 3, 1)\n",
      "(480, 640, 3)\n",
      "(32, 3, 480, 640)\n",
      "(32, 3, 1)\n",
      "(480, 640, 3)\n",
      "(32, 3, 480, 640)\n",
      "(32, 3, 1)\n"
     ]
    }
   ],
   "source": [
    "batch_size=32\n",
    "n_e=60\n",
    "n_frames_train=18000\n",
    "n_frames_test=1000\n",
    "n_frames_valid=1400\n",
    "\n",
    "train_idx,test_idx,valid_idx=commai_speed_chl_gen(n_frames_valid=n_frames_valid,\n",
    "                    n_frames_test=n_frames_test,n_frames_train=n_frames_train,batch_size=batch_size).get_indexes()\n",
    "\n",
    "load=np.load(open(\"idxes_21bs_GRU_18-5k.np\",\"rb\"))\n",
    "train_idx=load[\"train_idx\"]\n",
    "test_idx=load[\"test_idx\"]\n",
    "valid_idx=load[\"valid_idx\"]\n",
    "\n",
    "train_gen=commai_speed_chl_gen(frame_idx=train_idx)\n",
    "test_gen=commai_speed_chl_gen(frame_idx=test_idx)\n",
    "valid_gen=commai_speed_chl_gen(frame_idx=valid_idx)\n",
    "\n",
    "#np.savez_compressed(open(\"idxes_32bs_GRU_18k.np\",\"wb+\"),train_idx=train_idx,test_idx=test_idx,valid_idx=valid_idx)\n",
    "\n"
   ]
  },
  {
   "cell_type": "code",
   "execution_count": 11,
   "metadata": {
    "colab": {
     "base_uri": "https://localhost:8080/",
     "height": 1000
    },
    "colab_type": "code",
    "id": "rGNtUegiyxTO",
    "outputId": "9afa4031-b514-436e-e021-72316dce37fb"
   },
   "outputs": [
    {
     "name": "stdout",
     "output_type": "stream",
     "text": [
      "Epoch 8/60\n",
      "563/562 [==============================] - 902s 2s/step - loss: 5.5798 - val_loss: 1.3735\n",
      "\n",
      "Epoch 00008: saving model to new_gen_convLSTM2D-GRU-DENSEOUT-EvenMore_dropout-32bs-BatchNorm-Pool2D-8KS-TDConv2DB4_INPUTS4KS-IMNORM-08-1.37-5.58.hdf5\n",
      "Epoch 9/60\n",
      "563/562 [==============================] - 903s 2s/step - loss: 3.2733 - val_loss: 1.2729\n",
      "\n",
      "Epoch 00009: saving model to new_gen_convLSTM2D-GRU-DENSEOUT-EvenMore_dropout-32bs-BatchNorm-Pool2D-8KS-TDConv2DB4_INPUTS4KS-IMNORM-09-1.27-3.27.hdf5\n",
      "Epoch 10/60\n",
      "563/562 [==============================] - 904s 2s/step - loss: 2.8967 - val_loss: 2.3233\n",
      "\n",
      "Epoch 00010: saving model to new_gen_convLSTM2D-GRU-DENSEOUT-EvenMore_dropout-32bs-BatchNorm-Pool2D-8KS-TDConv2DB4_INPUTS4KS-IMNORM-10-2.32-2.90.hdf5\n",
      "Epoch 11/60\n",
      "563/562 [==============================] - 904s 2s/step - loss: 2.5633 - val_loss: 1.5943\n",
      "\n",
      "Epoch 00011: saving model to new_gen_convLSTM2D-GRU-DENSEOUT-EvenMore_dropout-32bs-BatchNorm-Pool2D-8KS-TDConv2DB4_INPUTS4KS-IMNORM-11-1.59-2.56.hdf5\n",
      "Epoch 12/60\n",
      "563/562 [==============================] - 905s 2s/step - loss: 2.4193 - val_loss: 1.4895\n",
      "\n",
      "Epoch 00012: saving model to new_gen_convLSTM2D-GRU-DENSEOUT-EvenMore_dropout-32bs-BatchNorm-Pool2D-8KS-TDConv2DB4_INPUTS4KS-IMNORM-12-1.49-2.42.hdf5\n",
      "Epoch 13/60\n",
      "  9/562 [..............................] - ETA: 14:35 - loss: 3.2600"
     ]
    },
    {
     "name": "stderr",
     "output_type": "stream",
     "text": [
      "Process ForkPoolWorker-224:\n",
      "Process ForkPoolWorker-225:\n",
      "Process ForkPoolWorker-232:\n",
      "Process ForkPoolWorker-221:\n",
      "Process ForkPoolWorker-222:\n",
      "Process ForkPoolWorker-231:\n",
      "Process ForkPoolWorker-238:\n",
      "Process ForkPoolWorker-240:\n",
      "Process ForkPoolWorker-227:\n",
      "Process ForkPoolWorker-237:\n",
      "Process ForkPoolWorker-234:\n",
      "Process ForkPoolWorker-239:\n",
      "Process ForkPoolWorker-228:\n",
      "Process ForkPoolWorker-230:\n",
      "Process ForkPoolWorker-229:\n",
      "Process ForkPoolWorker-233:\n",
      "Process ForkPoolWorker-223:\n",
      "Process ForkPoolWorker-235:\n",
      "Process ForkPoolWorker-226:\n",
      "Process ForkPoolWorker-236:\n",
      "Traceback (most recent call last):\n",
      "Traceback (most recent call last):\n",
      "Traceback (most recent call last):\n",
      "Traceback (most recent call last):\n",
      "Traceback (most recent call last):\n",
      "Traceback (most recent call last):\n",
      "Traceback (most recent call last):\n",
      "Traceback (most recent call last):\n"
     ]
    }
   ],
   "source": [
    "seq=load_model(\"new_gen_convLSTM2D-GRU-DENSEOUT-EvenMore_dropout-32bs-BatchNorm-Pool2D-8KS-TDConv2DB4_INPUTS4KS-IMNORM-07-42.39-3.13.hdf5\",custom_objects={\"tf\":tf})\n",
    "ie=7\n",
    "\n",
    "filepath=\"new_gen_convLSTM2D-GRU-DENSEOUT-EvenMore_dropout-32bs-BatchNorm-Pool2D-8KS-TDConv2DB4_INPUTS4KS-IMNORM-{epoch:02d}-{val_loss:.2f}-{loss:.2f}.hdf5\"\n",
    "checkpoint = keras.callbacks.ModelCheckpoint(filepath, monitor='val_loss', verbose=1, save_best_only=False)\n",
    "\n",
    "cbs=[checkpoint]\n",
    "hst=seq.fit_generator(train_gen,  max_queue_size=85,steps_per_epoch=n_frames_train/batch_size, epochs=n_e,workers=10,\n",
    "        use_multiprocessing=True,validation_data=test_gen,callbacks=cbs,verbose=1,shuffle=True, initial_epoch=ie)"
   ]
  },
  {
   "cell_type": "code",
   "execution_count": 8,
   "metadata": {
    "colab": {},
    "colab_type": "code",
    "id": "vqe_0VHnllKY",
    "outputId": "0c8beae7-f6ed-4083-e819-f3b7556b64e3"
   },
   "outputs": [
    {
     "data": {
      "text/plain": [
       "3.4827985763549805"
      ]
     },
     "execution_count": 8,
     "metadata": {},
     "output_type": "execute_result"
    }
   ],
   "source": [
    "#7 Epoches\n",
    "seq=load_model(\"new_gen_convLSTM2D-GRU-DENSEOUT-EvenMore_dropout-32bs-BatchNorm-Pool2D-8KS-TDConv2DB4_INPUTS4KS-IMNORM-07-42.39-3.13.hdf5\",custom_objects={\"tf\":tf})\n",
    "seq.evaluate_generator(valid_gen,n_frames_valid/batch_size, max_queue_size = 10,workers = 2,verbose=2)"
   ]
  },
  {
   "cell_type": "code",
   "execution_count": 13,
   "metadata": {},
   "outputs": [
    {
     "data": {
      "text/plain": [
       "0.7791522145271301"
      ]
     },
     "execution_count": 13,
     "metadata": {},
     "output_type": "execute_result"
    }
   ],
   "source": [
    "#11 Epoches\n",
    "# this is too fucking good\n",
    "seq=load_model(\"new_gen_convLSTM2D-GRU-DENSEOUT-EvenMore_dropout-32bs-BatchNorm-Pool2D-8KS-TDConv2DB4_INPUTS4KS-IMNORM-12-1.49-2.42.hdf5\",custom_objects={\"tf\":tf})\n",
    "seq.evaluate_generator(valid_gen,n_frames_valid/batch_size, max_queue_size = 85,workers = 10,verbose=2)"
   ]
  }
 ],
 "metadata": {
  "accelerator": "GPU",
  "colab": {
   "collapsed_sections": [],
   "name": "new_gen_convLSTM2D-GRU-Shallow-DENSEOUT-EvenMoreMax_dropout-21bs-BatchNorm-Pool2D-8KS-TDConv2DB4_INPUTS4KS-IMNORM.ipynb",
   "provenance": []
  },
  "kernelspec": {
   "display_name": "Python 3",
   "language": "python",
   "name": "python3"
  },
  "language_info": {
   "codemirror_mode": {
    "name": "ipython",
    "version": 3
   },
   "file_extension": ".py",
   "mimetype": "text/x-python",
   "name": "python",
   "nbconvert_exporter": "python",
   "pygments_lexer": "ipython3",
   "version": "3.6.9"
  }
 },
 "nbformat": 4,
 "nbformat_minor": 1
}
