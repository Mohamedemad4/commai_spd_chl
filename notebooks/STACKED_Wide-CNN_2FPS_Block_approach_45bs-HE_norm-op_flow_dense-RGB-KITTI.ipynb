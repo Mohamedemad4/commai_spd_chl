{
 "cells": [
  {
   "cell_type": "code",
   "execution_count": 1,
   "metadata": {
    "colab": {
     "base_uri": "https://localhost:8080/",
     "height": 35
    },
    "colab_type": "code",
    "id": "aBNyUdS8yxRg",
    "outputId": "af8df085-8dba-42a0-d57a-874805c0e1d0"
   },
   "outputs": [
    {
     "name": "stderr",
     "output_type": "stream",
     "text": [
      "Using TensorFlow backend.\n"
     ]
    }
   ],
   "source": [
    "import importlib\n",
    "import commai_spd_chl_keras_datagen \n",
    "importlib.reload(commai_spd_chl_keras_datagen)\n",
    "\n",
    "import keras\n",
    "import numpy as np\n",
    "import tensorflow as tf\n",
    "from tensorflow.keras.models import Sequential,load_model\n",
    "import tensorflow.keras.backend as K\n",
    "from commai_spd_chl_keras_datagen import commai_speed_chl_gen\n",
    "from tensorflow.keras.layers import Dense,Activation,Lambda,GRU,BatchNormalization,Activation,Flatten,Conv2D,MaxPooling2D,Reshape,Dropout"
   ]
  },
  {
   "cell_type": "code",
   "execution_count": 2,
   "metadata": {
    "colab": {
     "base_uri": "https://localhost:8080/",
     "height": 90
    },
    "colab_type": "code",
    "id": "8LClTAitllJb",
    "outputId": "50cd9033-1934-4fb8-8765-85ba87a7e227"
   },
   "outputs": [
    {
     "data": {
      "text/plain": [
       "[PhysicalDevice(name='/physical_device:CPU:0', device_type='CPU'),\n",
       " PhysicalDevice(name='/physical_device:XLA_CPU:0', device_type='XLA_CPU'),\n",
       " PhysicalDevice(name='/physical_device:XLA_GPU:0', device_type='XLA_GPU'),\n",
       " PhysicalDevice(name='/physical_device:GPU:0', device_type='GPU')]"
      ]
     },
     "execution_count": 2,
     "metadata": {},
     "output_type": "execute_result"
    }
   ],
   "source": [
    "tf.config.list_physical_devices ()"
   ]
  },
  {
   "cell_type": "code",
   "execution_count": 3,
   "metadata": {
    "colab": {
     "base_uri": "https://localhost:8080/",
     "height": 35
    },
    "colab_type": "code",
    "id": "XHpYiMJhyxR-",
    "outputId": "f67a3161-ab5f-4968-c382-249adb19748b"
   },
   "outputs": [
    {
     "data": {
      "text/plain": [
       "'channels_last'"
      ]
     },
     "execution_count": 3,
     "metadata": {},
     "output_type": "execute_result"
    }
   ],
   "source": [
    "tf.keras.backend.image_data_format()"
   ]
  },
  {
   "cell_type": "code",
   "execution_count": 10,
   "metadata": {
    "colab": {
     "base_uri": "https://localhost:8080/",
     "height": 1000
    },
    "colab_type": "code",
    "id": "QMQQaMUPyxS4",
    "outputId": "7aef6cd7-9428-4a71-e11f-f23ebb495adb",
    "scrolled": false
   },
   "outputs": [
    {
     "name": "stdout",
     "output_type": "stream",
     "text": [
      "Model: \"sequential_6\"\n",
      "_________________________________________________________________\n",
      "Layer (type)                 Output Shape              Param #   \n",
      "=================================================================\n",
      "conv2d_29 (Conv2D)           (None, 480, 640, 64)      3136      \n",
      "_________________________________________________________________\n",
      "max_pooling2d_29 (MaxPooling (None, 120, 160, 64)      0         \n",
      "_________________________________________________________________\n",
      "activation_32 (Activation)   (None, 120, 160, 64)      0         \n",
      "_________________________________________________________________\n",
      "batch_normalization_29 (Batc (None, 120, 160, 64)      256       \n",
      "_________________________________________________________________\n",
      "conv2d_30 (Conv2D)           (None, 120, 160, 64)      65600     \n",
      "_________________________________________________________________\n",
      "max_pooling2d_30 (MaxPooling (None, 30, 40, 64)        0         \n",
      "_________________________________________________________________\n",
      "activation_33 (Activation)   (None, 30, 40, 64)        0         \n",
      "_________________________________________________________________\n",
      "batch_normalization_30 (Batc (None, 30, 40, 64)        256       \n",
      "_________________________________________________________________\n",
      "conv2d_31 (Conv2D)           (None, 30, 40, 64)        65600     \n",
      "_________________________________________________________________\n",
      "max_pooling2d_31 (MaxPooling (None, 7, 10, 64)         0         \n",
      "_________________________________________________________________\n",
      "activation_34 (Activation)   (None, 7, 10, 64)         0         \n",
      "_________________________________________________________________\n",
      "batch_normalization_31 (Batc (None, 7, 10, 64)         256       \n",
      "_________________________________________________________________\n",
      "conv2d_32 (Conv2D)           (None, 7, 10, 96)         98400     \n",
      "_________________________________________________________________\n",
      "max_pooling2d_32 (MaxPooling (None, 1, 2, 96)          0         \n",
      "_________________________________________________________________\n",
      "activation_35 (Activation)   (None, 1, 2, 96)          0         \n",
      "_________________________________________________________________\n",
      "batch_normalization_32 (Batc (None, 1, 2, 96)          384       \n",
      "_________________________________________________________________\n",
      "conv2d_33 (Conv2D)           (None, 1, 2, 96)          147552    \n",
      "_________________________________________________________________\n",
      "activation_36 (Activation)   (None, 1, 2, 96)          0         \n",
      "_________________________________________________________________\n",
      "batch_normalization_33 (Batc (None, 1, 2, 96)          384       \n",
      "_________________________________________________________________\n",
      "flatten_3 (Flatten)          (None, 192)               0         \n",
      "_________________________________________________________________\n",
      "dense_9 (Dense)              (None, 192)               37056     \n",
      "_________________________________________________________________\n",
      "activation_37 (Activation)   (None, 192)               0         \n",
      "_________________________________________________________________\n",
      "batch_normalization_34 (Batc (None, 192)               768       \n",
      "_________________________________________________________________\n",
      "dropout_6 (Dropout)          (None, 192)               0         \n",
      "_________________________________________________________________\n",
      "dense_10 (Dense)             (None, 50)                9650      \n",
      "_________________________________________________________________\n",
      "activation_38 (Activation)   (None, 50)                0         \n",
      "_________________________________________________________________\n",
      "dropout_7 (Dropout)          (None, 50)                0         \n",
      "_________________________________________________________________\n",
      "dense_11 (Dense)             (None, 1)                 51        \n",
      "=================================================================\n",
      "Total params: 429,349\n",
      "Trainable params: 428,197\n",
      "Non-trainable params: 1,152\n",
      "_________________________________________________________________\n"
     ]
    }
   ],
   "source": [
    "seq = Sequential()\n",
    "\n",
    "seq.add(Conv2D(filters=64,kernel_initializer='he_normal', kernel_size=(4,4),padding='same',input_shape=(480,640,3)))\n",
    "seq.add(MaxPooling2D(pool_size=(4,4)))\n",
    "seq.add(Activation(\"relu\"))\n",
    "seq.add(BatchNormalization())\n",
    "\n",
    "seq.add(Conv2D(filters=64, kernel_size=(4,4),kernel_initializer='he_normal',padding='same'))\n",
    "seq.add(MaxPooling2D(pool_size=(4,4)))\n",
    "seq.add(Activation(\"relu\"))\n",
    "seq.add(BatchNormalization())\n",
    "\n",
    "seq.add(Conv2D(filters=64, kernel_size=(4,4),kernel_initializer='he_normal',padding='same'))\n",
    "seq.add(MaxPooling2D(pool_size=(4,4)))\n",
    "seq.add(Activation(\"relu\"))\n",
    "seq.add(BatchNormalization())\n",
    "\n",
    "\n",
    "seq.add(Conv2D(filters=96, kernel_size=(4,4),kernel_initializer='he_normal',padding='same'))\n",
    "seq.add(MaxPooling2D(pool_size=(4,4)))\n",
    "seq.add(Activation(\"relu\"))\n",
    "seq.add(BatchNormalization())\n",
    "\n",
    "seq.add(Conv2D(filters=96, kernel_size=(4,4),kernel_initializer='he_normal',padding='same'))\n",
    "seq.add(Activation(\"relu\"))\n",
    "seq.add(BatchNormalization())\n",
    "\n",
    "seq.add(Flatten())\n",
    "\n",
    "seq.add(Dense(2*96,kernel_initializer='he_normal'))\n",
    "seq.add(Activation(\"relu\"))\n",
    "seq.add(BatchNormalization())\n",
    "seq.add(Dropout(.3)) # throw away 30%\n",
    "\n",
    "seq.add(Dense(50,kernel_initializer='he_normal'))\n",
    "seq.add(Activation(\"relu\"))\n",
    "seq.add(Dropout(.2))\n",
    "\n",
    "seq.add(Dense(1,kernel_initializer='he_normal'))\n",
    "\n",
    "seq.compile(loss='mse', optimizer='adam')\n",
    "seq.summary()"
   ]
  },
  {
   "cell_type": "code",
   "execution_count": 12,
   "metadata": {},
   "outputs": [
    {
     "name": "stderr",
     "output_type": "stream",
     "text": [
      "  0%|          | 15/53831 [00:00<06:14, 143.72it/s]"
     ]
    },
    {
     "name": "stdout",
     "output_type": "stream",
     "text": [
      "(480, 640)\n",
      "(32, 3, 480, 640)\n",
      "(32, 3, 1)\n",
      "making dir:, /mnt/imgs\n",
      "building video Database\n"
     ]
    },
    {
     "name": "stderr",
     "output_type": "stream",
     "text": [
      "100%|██████████| 53831/53831 [11:50<00:00, 75.79it/s] \n"
     ]
    }
   ],
   "source": [
    "commai_speed_chl_gen(v=\"data_new/train.mp4\",db_name=\"/mnt/imgs\",txt=\"data_new/train.txt\").build_video_folder()"
   ]
  },
  {
   "cell_type": "code",
   "execution_count": 4,
   "metadata": {
    "colab": {
     "base_uri": "https://localhost:8080/",
     "height": 293
    },
    "colab_type": "code",
    "id": "W3W-nAyBllJ-",
    "outputId": "421f4fef-88d2-4c83-b01f-3753bdc97c3e",
    "scrolled": true
   },
   "outputs": [
    {
     "name": "stdout",
     "output_type": "stream",
     "text": [
      "53760\n",
      "(480, 640, 3)\n",
      "(45, 480, 640, 3)\n",
      "(45, 1)\n",
      "train_samples: 22800 \n",
      "test_samples:2000 \n",
      "valid_samples: 2000\n",
      "53760\n",
      "(480, 640, 3)\n",
      "(45, 480, 640, 3)\n",
      "(45, 1)\n",
      "53760\n",
      "(480, 640, 3)\n",
      "(45, 480, 640, 3)\n",
      "(45, 1)\n",
      "53760\n",
      "(480, 640, 3)\n",
      "(45, 480, 640, 3)\n",
      "(45, 1)\n"
     ]
    }
   ],
   "source": [
    "batch_size=45\n",
    "n_e=120\n",
    "# total new frames:53830\n",
    "n_frames_train=45600\n",
    "n_frames_test=4000\n",
    "n_frames_valid=4000\n",
    "\n",
    "train_idx,test_idx,valid_idx=commai_speed_chl_gen(n_frames_valid=n_frames_valid,frames_per_sample=2,mode=\"optical_flow_dense\",\n",
    "                    n_frames_test=n_frames_test,n_frames_train=n_frames_train,batch_size=batch_size,\n",
    "                                                  v=\"data_new/train.mp4\",txt=\"data_new/train.txt\",\n",
    "                                                  db_name=\"/mnt/imgs\").get_indexes()\n",
    "\n",
    "load=np.load(open(\"idxes_45bs_opflowdense_KITTI.np\",\"rb\"))\n",
    "train_idx=load[\"train_idx\"]\n",
    "test_idx=load[\"test_idx\"]\n",
    "valid_idx=load[\"valid_idx\"]\n",
    "\n",
    "train_gen=commai_speed_chl_gen(v=\"data_new/train.mp4\",txt=\"data_new/train.txt\",db_name=\"/mnt/imgs\",\n",
    "                frame_idx=train_idx,batch_size=batch_size,mode=\"optical_flow_dense\",frames_per_sample=2)\n",
    "test_gen=commai_speed_chl_gen(v=\"data_new/train.mp4\",txt=\"data_new/train.txt\",db_name=\"/mnt/imgs\",\n",
    "                frame_idx=test_idx,batch_size=batch_size,mode=\"optical_flow_dense\",frames_per_sample=2)\n",
    "valid_gen=commai_speed_chl_gen(v=\"data_new/train.mp4\",txt=\"data_new/train.txt\",db_name=\"/mnt/imgs\",\n",
    "                frame_idx=valid_idx,batch_size=batch_size,mode=\"optical_flow_dense\",frames_per_sample=2)\n",
    "\n",
    "#np.savez_compressed(open(\"idxes_45bs_opflowdense_KITTI.np\",\"wb+\"),train_idx=train_idx,test_idx=test_idx,valid_idx=valid_idx)\n",
    "\n"
   ]
  },
  {
   "cell_type": "code",
   "execution_count": 6,
   "metadata": {},
   "outputs": [
    {
     "name": "stdout",
     "output_type": "stream",
     "text": [
      "4.71239161491394\n"
     ]
    }
   ],
   "source": [
    "a=[]\n",
    "import time\n",
    "t=time.time()\n",
    "for i in test_gen:\n",
    "    a.append(i)\n",
    "    break\n",
    "print(time.time()-t) # fuck me "
   ]
  },
  {
   "cell_type": "code",
   "execution_count": null,
   "metadata": {
    "colab": {
     "base_uri": "https://localhost:8080/",
     "height": 1000
    },
    "colab_type": "code",
    "id": "rGNtUegiyxTO",
    "outputId": "9afa4031-b514-436e-e021-72316dce37fb"
   },
   "outputs": [
    {
     "name": "stdout",
     "output_type": "stream",
     "text": [
      "WARNING:tensorflow:From <ipython-input-12-860c3d7f3deb>:12: Model.fit_generator (from tensorflow.python.keras.engine.training) is deprecated and will be removed in a future version.\n",
      "Instructions for updating:\n",
      "Please use Model.fit, which supports generators.\n",
      "Epoch 1/120\n",
      "WARNING:tensorflow:multiprocessing can interact badly with TensorFlow, causing nondeterministic deadlocks. For high performance data pipelines tf.data is recommended.\n",
      "505/506 [============================>.] - ETA: 1s - loss: 135.2146WARNING:tensorflow:multiprocessing can interact badly with TensorFlow, causing nondeterministic deadlocks. For high performance data pipelines tf.data is recommended.\n",
      "506/506 [==============================] - ETA: 0s - loss: 135.0914WARNING:tensorflow:multiprocessing can interact badly with TensorFlow, causing nondeterministic deadlocks. For high performance data pipelines tf.data is recommended.\n",
      "WARNING:tensorflow:multiprocessing can interact badly with TensorFlow, causing nondeterministic deadlocks. For high performance data pipelines tf.data is recommended.\n",
      "\n",
      "Epoch 00001: saving model to STACKED_Wide-CNN_2FPS_Block_approach_45bs-HE_norm-op_flow_dense-RGB-KITTI-01-66.80-135.09.hdf5\n",
      "506/506 [==============================] - 797s 2s/step - loss: 135.0914 - val_loss: 66.8040\n",
      "Epoch 2/120\n",
      "WARNING:tensorflow:multiprocessing can interact badly with TensorFlow, causing nondeterministic deadlocks. For high performance data pipelines tf.data is recommended.\n",
      "505/506 [============================>.] - ETA: 1s - loss: 90.3402WARNING:tensorflow:multiprocessing can interact badly with TensorFlow, causing nondeterministic deadlocks. For high performance data pipelines tf.data is recommended.\n",
      "506/506 [==============================] - ETA: 0s - loss: 90.2646WARNING:tensorflow:multiprocessing can interact badly with TensorFlow, causing nondeterministic deadlocks. For high performance data pipelines tf.data is recommended.\n",
      "WARNING:tensorflow:multiprocessing can interact badly with TensorFlow, causing nondeterministic deadlocks. For high performance data pipelines tf.data is recommended.\n",
      "\n",
      "Epoch 00002: saving model to STACKED_Wide-CNN_2FPS_Block_approach_45bs-HE_norm-op_flow_dense-RGB-KITTI-02-65.56-90.26.hdf5\n",
      "506/506 [==============================] - 783s 2s/step - loss: 90.2646 - val_loss: 65.5637\n",
      "Epoch 3/120\n",
      "WARNING:tensorflow:multiprocessing can interact badly with TensorFlow, causing nondeterministic deadlocks. For high performance data pipelines tf.data is recommended.\n",
      "505/506 [============================>.] - ETA: 1s - loss: 65.2947WARNING:tensorflow:multiprocessing can interact badly with TensorFlow, causing nondeterministic deadlocks. For high performance data pipelines tf.data is recommended.\n",
      "506/506 [==============================] - ETA: 0s - loss: 65.3137WARNING:tensorflow:multiprocessing can interact badly with TensorFlow, causing nondeterministic deadlocks. For high performance data pipelines tf.data is recommended.\n",
      "WARNING:tensorflow:multiprocessing can interact badly with TensorFlow, causing nondeterministic deadlocks. For high performance data pipelines tf.data is recommended.\n",
      "\n",
      "Epoch 00003: saving model to STACKED_Wide-CNN_2FPS_Block_approach_45bs-HE_norm-op_flow_dense-RGB-KITTI-03-38.58-65.31.hdf5\n",
      "506/506 [==============================] - 783s 2s/step - loss: 65.3137 - val_loss: 38.5810\n",
      "Epoch 4/120\n",
      "WARNING:tensorflow:multiprocessing can interact badly with TensorFlow, causing nondeterministic deadlocks. For high performance data pipelines tf.data is recommended.\n",
      "505/506 [============================>.] - ETA: 1s - loss: 50.8557WARNING:tensorflow:multiprocessing can interact badly with TensorFlow, causing nondeterministic deadlocks. For high performance data pipelines tf.data is recommended.\n",
      "506/506 [==============================] - ETA: 0s - loss: 50.9141WARNING:tensorflow:multiprocessing can interact badly with TensorFlow, causing nondeterministic deadlocks. For high performance data pipelines tf.data is recommended.\n",
      "WARNING:tensorflow:multiprocessing can interact badly with TensorFlow, causing nondeterministic deadlocks. For high performance data pipelines tf.data is recommended.\n",
      "\n",
      "Epoch 00004: saving model to STACKED_Wide-CNN_2FPS_Block_approach_45bs-HE_norm-op_flow_dense-RGB-KITTI-04-33.13-50.91.hdf5\n",
      "506/506 [==============================] - 778s 2s/step - loss: 50.9141 - val_loss: 33.1296\n",
      "Epoch 5/120\n",
      "WARNING:tensorflow:multiprocessing can interact badly with TensorFlow, causing nondeterministic deadlocks. For high performance data pipelines tf.data is recommended.\n",
      "505/506 [============================>.] - ETA: 1s - loss: 40.0399WARNING:tensorflow:multiprocessing can interact badly with TensorFlow, causing nondeterministic deadlocks. For high performance data pipelines tf.data is recommended.\n",
      "506/506 [==============================] - ETA: 0s - loss: 39.9955WARNING:tensorflow:multiprocessing can interact badly with TensorFlow, causing nondeterministic deadlocks. For high performance data pipelines tf.data is recommended.\n",
      "WARNING:tensorflow:multiprocessing can interact badly with TensorFlow, causing nondeterministic deadlocks. For high performance data pipelines tf.data is recommended.\n",
      "\n",
      "Epoch 00005: saving model to STACKED_Wide-CNN_2FPS_Block_approach_45bs-HE_norm-op_flow_dense-RGB-KITTI-05-39.43-40.00.hdf5\n",
      "506/506 [==============================] - 781s 2s/step - loss: 39.9955 - val_loss: 39.4279\n",
      "Epoch 6/120\n",
      "WARNING:tensorflow:multiprocessing can interact badly with TensorFlow, causing nondeterministic deadlocks. For high performance data pipelines tf.data is recommended.\n",
      "505/506 [============================>.] - ETA: 1s - loss: 34.1185WARNING:tensorflow:multiprocessing can interact badly with TensorFlow, causing nondeterministic deadlocks. For high performance data pipelines tf.data is recommended.\n",
      "506/506 [==============================] - ETA: 0s - loss: 34.1475WARNING:tensorflow:multiprocessing can interact badly with TensorFlow, causing nondeterministic deadlocks. For high performance data pipelines tf.data is recommended.\n",
      "WARNING:tensorflow:multiprocessing can interact badly with TensorFlow, causing nondeterministic deadlocks. For high performance data pipelines tf.data is recommended.\n",
      "\n",
      "Epoch 00006: saving model to STACKED_Wide-CNN_2FPS_Block_approach_45bs-HE_norm-op_flow_dense-RGB-KITTI-06-25.76-34.15.hdf5\n",
      "506/506 [==============================] - 794s 2s/step - loss: 34.1475 - val_loss: 25.7571\n",
      "Epoch 7/120\n",
      "WARNING:tensorflow:multiprocessing can interact badly with TensorFlow, causing nondeterministic deadlocks. For high performance data pipelines tf.data is recommended.\n",
      "505/506 [============================>.] - ETA: 1s - loss: 29.4986WARNING:tensorflow:multiprocessing can interact badly with TensorFlow, causing nondeterministic deadlocks. For high performance data pipelines tf.data is recommended.\n",
      "506/506 [==============================] - ETA: 0s - loss: 29.4618WARNING:tensorflow:multiprocessing can interact badly with TensorFlow, causing nondeterministic deadlocks. For high performance data pipelines tf.data is recommended.\n",
      "WARNING:tensorflow:multiprocessing can interact badly with TensorFlow, causing nondeterministic deadlocks. For high performance data pipelines tf.data is recommended.\n",
      "\n",
      "Epoch 00007: saving model to STACKED_Wide-CNN_2FPS_Block_approach_45bs-HE_norm-op_flow_dense-RGB-KITTI-07-32.73-29.46.hdf5\n",
      "506/506 [==============================] - 773s 2s/step - loss: 29.4618 - val_loss: 32.7280\n",
      "Epoch 8/120\n",
      "WARNING:tensorflow:multiprocessing can interact badly with TensorFlow, causing nondeterministic deadlocks. For high performance data pipelines tf.data is recommended.\n",
      "505/506 [============================>.] - ETA: 1s - loss: 27.3796WARNING:tensorflow:multiprocessing can interact badly with TensorFlow, causing nondeterministic deadlocks. For high performance data pipelines tf.data is recommended.\n",
      "506/506 [==============================] - ETA: 0s - loss: 27.3915WARNING:tensorflow:multiprocessing can interact badly with TensorFlow, causing nondeterministic deadlocks. For high performance data pipelines tf.data is recommended.\n",
      "WARNING:tensorflow:multiprocessing can interact badly with TensorFlow, causing nondeterministic deadlocks. For high performance data pipelines tf.data is recommended.\n"
     ]
    },
    {
     "name": "stdout",
     "output_type": "stream",
     "text": [
      "\n",
      "Epoch 00008: saving model to STACKED_Wide-CNN_2FPS_Block_approach_45bs-HE_norm-op_flow_dense-RGB-KITTI-08-23.55-27.39.hdf5\n",
      "506/506 [==============================] - 786s 2s/step - loss: 27.3915 - val_loss: 23.5547\n",
      "Epoch 9/120\n",
      "WARNING:tensorflow:multiprocessing can interact badly with TensorFlow, causing nondeterministic deadlocks. For high performance data pipelines tf.data is recommended.\n",
      "505/506 [============================>.] - ETA: 1s - loss: 24.9414WARNING:tensorflow:multiprocessing can interact badly with TensorFlow, causing nondeterministic deadlocks. For high performance data pipelines tf.data is recommended.\n",
      "506/506 [==============================] - ETA: 0s - loss: 24.9499WARNING:tensorflow:multiprocessing can interact badly with TensorFlow, causing nondeterministic deadlocks. For high performance data pipelines tf.data is recommended.\n",
      "WARNING:tensorflow:multiprocessing can interact badly with TensorFlow, causing nondeterministic deadlocks. For high performance data pipelines tf.data is recommended.\n",
      "\n",
      "Epoch 00009: saving model to STACKED_Wide-CNN_2FPS_Block_approach_45bs-HE_norm-op_flow_dense-RGB-KITTI-09-23.91-24.95.hdf5\n",
      "506/506 [==============================] - 798s 2s/step - loss: 24.9499 - val_loss: 23.9093\n",
      "Epoch 10/120\n",
      "WARNING:tensorflow:multiprocessing can interact badly with TensorFlow, causing nondeterministic deadlocks. For high performance data pipelines tf.data is recommended.\n",
      "505/506 [============================>.] - ETA: 1s - loss: 21.5236WARNING:tensorflow:multiprocessing can interact badly with TensorFlow, causing nondeterministic deadlocks. For high performance data pipelines tf.data is recommended.\n",
      "506/506 [==============================] - ETA: 0s - loss: 21.5321WARNING:tensorflow:multiprocessing can interact badly with TensorFlow, causing nondeterministic deadlocks. For high performance data pipelines tf.data is recommended.\n",
      "WARNING:tensorflow:multiprocessing can interact badly with TensorFlow, causing nondeterministic deadlocks. For high performance data pipelines tf.data is recommended.\n",
      "\n",
      "Epoch 00010: saving model to STACKED_Wide-CNN_2FPS_Block_approach_45bs-HE_norm-op_flow_dense-RGB-KITTI-10-24.15-21.53.hdf5\n",
      "506/506 [==============================] - 795s 2s/step - loss: 21.5321 - val_loss: 24.1516\n",
      "Epoch 11/120\n",
      "WARNING:tensorflow:multiprocessing can interact badly with TensorFlow, causing nondeterministic deadlocks. For high performance data pipelines tf.data is recommended.\n",
      "444/506 [=========================>....] - ETA: 1:18 - loss: 19.7876"
     ]
    }
   ],
   "source": [
    "ie=0\n",
    "filepath=\"STACKED_Wide-CNN_2FPS_Block_approach_45bs-HE_norm-op_flow_dense-RGB-KITTI-{epoch:02d}-{val_loss:.2f}-{loss:.2f}.hdf5\"\n",
    "checkpoint = tf.keras.callbacks.ModelCheckpoint(filepath, monitor='val_loss', verbose=1, save_best_only=False)\n",
    "\n",
    "tb=tf.keras.callbacks.TensorBoard(\n",
    "    log_dir='STACKED_Wide-CNN_2FPS_Block_approach_45bs-HE_norm-op_flow_dense-RGB-KITTI', histogram_freq=1, write_graph=True, write_images=False,\n",
    "    update_freq=10, profile_batch=0, embeddings_freq=0\n",
    ")\n",
    "\n",
    "cbs=[checkpoint,tb]\n",
    "hst=seq.fit_generator(train_gen, epochs=n_e,workers=25,max_queue_size=100,\n",
    "        use_multiprocessing=True,validation_data=test_gen,callbacks=cbs,verbose=1,shuffle=True, initial_epoch=ie)"
   ]
  },
  {
   "cell_type": "code",
   "execution_count": 5,
   "metadata": {},
   "outputs": [
    {
     "name": "stdout",
     "output_type": "stream",
     "text": [
      "WARNING:tensorflow:From <ipython-input-5-1c6a8aa8bb5e>:3: Model.evaluate_generator (from tensorflow.python.keras.engine.training) is deprecated and will be removed in a future version.\n",
      "Instructions for updating:\n",
      "Please use Model.evaluate, which supports generators.\n",
      "45/44 - 35s - loss: 13.8705\n"
     ]
    },
    {
     "data": {
      "text/plain": [
       "13.87048625946045"
      ]
     },
     "execution_count": 5,
     "metadata": {},
     "output_type": "execute_result"
    }
   ],
   "source": [
    "#44 Epoches\n",
    "seq=load_model(\"STACKED_Wide-CNN_2FPS_Block_approach_45bs-HE_norm-op_flow_dense-RGB-KITTI-44-14.04-8.10.hdf5\")\n",
    "seq.evaluate_generator(valid_gen,n_frames_valid/batch_size/2, max_queue_size = 80,workers = 20,verbose=2)"
   ]
  }
 ],
 "metadata": {
  "accelerator": "GPU",
  "colab": {
   "collapsed_sections": [],
   "name": "new_gen_convLSTM2D-GRU-Shallow-DENSEOUT-EvenMoreMax_dropout-21bs-BatchNorm-Pool2D-8KS-TDConv2DB4_INPUTS4KS-IMNORM.ipynb",
   "provenance": []
  },
  "kernelspec": {
   "display_name": "Python 3",
   "language": "python",
   "name": "python3"
  },
  "language_info": {
   "codemirror_mode": {
    "name": "ipython",
    "version": 3
   },
   "file_extension": ".py",
   "mimetype": "text/x-python",
   "name": "python",
   "nbconvert_exporter": "python",
   "pygments_lexer": "ipython3",
   "version": "3.6.9"
  }
 },
 "nbformat": 4,
 "nbformat_minor": 1
}
