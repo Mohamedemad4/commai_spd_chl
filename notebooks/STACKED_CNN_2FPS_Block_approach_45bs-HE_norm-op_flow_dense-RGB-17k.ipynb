{
 "cells": [
  {
   "cell_type": "code",
   "execution_count": 1,
   "metadata": {
    "colab": {
     "base_uri": "https://localhost:8080/",
     "height": 35
    },
    "colab_type": "code",
    "id": "aBNyUdS8yxRg",
    "outputId": "af8df085-8dba-42a0-d57a-874805c0e1d0"
   },
   "outputs": [
    {
     "name": "stderr",
     "output_type": "stream",
     "text": [
      "Using TensorFlow backend.\n"
     ]
    }
   ],
   "source": [
    "import keras\n",
    "import numpy as np\n",
    "import tensorflow as tf\n",
    "from tensorflow.keras.models import Sequential,load_model\n",
    "import tensorflow.keras.backend as K\n",
    "from commai_spd_chl_keras_datagen import commai_speed_chl_gen\n",
    "from tensorflow.keras.layers import Dense,Activation,Lambda,GRU,BatchNormalization,Activation,Flatten,Conv2D,MaxPooling2D,Reshape,Dropout"
   ]
  },
  {
   "cell_type": "code",
   "execution_count": 2,
   "metadata": {
    "colab": {
     "base_uri": "https://localhost:8080/",
     "height": 90
    },
    "colab_type": "code",
    "id": "8LClTAitllJb",
    "outputId": "50cd9033-1934-4fb8-8765-85ba87a7e227"
   },
   "outputs": [
    {
     "data": {
      "text/plain": [
       "[PhysicalDevice(name='/physical_device:CPU:0', device_type='CPU'),\n",
       " PhysicalDevice(name='/physical_device:XLA_CPU:0', device_type='XLA_CPU'),\n",
       " PhysicalDevice(name='/physical_device:XLA_GPU:0', device_type='XLA_GPU'),\n",
       " PhysicalDevice(name='/physical_device:GPU:0', device_type='GPU')]"
      ]
     },
     "execution_count": 2,
     "metadata": {},
     "output_type": "execute_result"
    }
   ],
   "source": [
    "tf.config.list_physical_devices ()"
   ]
  },
  {
   "cell_type": "code",
   "execution_count": 3,
   "metadata": {
    "colab": {
     "base_uri": "https://localhost:8080/",
     "height": 35
    },
    "colab_type": "code",
    "id": "XHpYiMJhyxR-",
    "outputId": "f67a3161-ab5f-4968-c382-249adb19748b"
   },
   "outputs": [
    {
     "data": {
      "text/plain": [
       "'channels_last'"
      ]
     },
     "execution_count": 3,
     "metadata": {},
     "output_type": "execute_result"
    }
   ],
   "source": [
    "tf.keras.backend.image_data_format()"
   ]
  },
  {
   "cell_type": "code",
   "execution_count": 4,
   "metadata": {
    "colab": {
     "base_uri": "https://localhost:8080/",
     "height": 1000
    },
    "colab_type": "code",
    "id": "QMQQaMUPyxS4",
    "outputId": "7aef6cd7-9428-4a71-e11f-f23ebb495adb",
    "scrolled": false
   },
   "outputs": [
    {
     "name": "stdout",
     "output_type": "stream",
     "text": [
      "Model: \"sequential\"\n",
      "_________________________________________________________________\n",
      "Layer (type)                 Output Shape              Param #   \n",
      "=================================================================\n",
      "conv2d (Conv2D)              (None, 480, 640, 32)      1568      \n",
      "_________________________________________________________________\n",
      "max_pooling2d (MaxPooling2D) (None, 120, 160, 32)      0         \n",
      "_________________________________________________________________\n",
      "activation (Activation)      (None, 120, 160, 32)      0         \n",
      "_________________________________________________________________\n",
      "batch_normalization (BatchNo (None, 120, 160, 32)      128       \n",
      "_________________________________________________________________\n",
      "conv2d_1 (Conv2D)            (None, 120, 160, 32)      16416     \n",
      "_________________________________________________________________\n",
      "max_pooling2d_1 (MaxPooling2 (None, 30, 40, 32)        0         \n",
      "_________________________________________________________________\n",
      "activation_1 (Activation)    (None, 30, 40, 32)        0         \n",
      "_________________________________________________________________\n",
      "batch_normalization_1 (Batch (None, 30, 40, 32)        128       \n",
      "_________________________________________________________________\n",
      "conv2d_2 (Conv2D)            (None, 30, 40, 64)        32832     \n",
      "_________________________________________________________________\n",
      "max_pooling2d_2 (MaxPooling2 (None, 7, 10, 64)         0         \n",
      "_________________________________________________________________\n",
      "activation_2 (Activation)    (None, 7, 10, 64)         0         \n",
      "_________________________________________________________________\n",
      "batch_normalization_2 (Batch (None, 7, 10, 64)         256       \n",
      "_________________________________________________________________\n",
      "conv2d_3 (Conv2D)            (None, 7, 10, 64)         65600     \n",
      "_________________________________________________________________\n",
      "max_pooling2d_3 (MaxPooling2 (None, 1, 2, 64)          0         \n",
      "_________________________________________________________________\n",
      "activation_3 (Activation)    (None, 1, 2, 64)          0         \n",
      "_________________________________________________________________\n",
      "batch_normalization_3 (Batch (None, 1, 2, 64)          256       \n",
      "_________________________________________________________________\n",
      "flatten (Flatten)            (None, 128)               0         \n",
      "_________________________________________________________________\n",
      "dense (Dense)                (None, 192)               24768     \n",
      "_________________________________________________________________\n",
      "activation_4 (Activation)    (None, 192)               0         \n",
      "_________________________________________________________________\n",
      "batch_normalization_4 (Batch (None, 192)               768       \n",
      "_________________________________________________________________\n",
      "dropout (Dropout)            (None, 192)               0         \n",
      "_________________________________________________________________\n",
      "dense_1 (Dense)              (None, 50)                9650      \n",
      "_________________________________________________________________\n",
      "activation_5 (Activation)    (None, 50)                0         \n",
      "_________________________________________________________________\n",
      "dropout_1 (Dropout)          (None, 50)                0         \n",
      "_________________________________________________________________\n",
      "dense_2 (Dense)              (None, 1)                 51        \n",
      "=================================================================\n",
      "Total params: 152,421\n",
      "Trainable params: 151,653\n",
      "Non-trainable params: 768\n",
      "_________________________________________________________________\n"
     ]
    }
   ],
   "source": [
    "seq = Sequential()\n",
    "\n",
    "#should I trust this guy?https://www.kdnuggets.com/2018/09/dropout-convolutional-networks.html\n",
    "\n",
    "seq.add(Conv2D(filters=32,kernel_initializer='he_normal', kernel_size=(4,4),padding='same',input_shape=(480,640,3)))\n",
    "seq.add(MaxPooling2D(pool_size=(4,4)))\n",
    "seq.add(Activation(\"relu\"))\n",
    "seq.add(BatchNormalization())\n",
    "\n",
    "seq.add(Conv2D(filters=32, kernel_size=(4,4),kernel_initializer='he_normal',padding='same'))\n",
    "seq.add(MaxPooling2D(pool_size=(4,4)))\n",
    "seq.add(Activation(\"relu\"))\n",
    "seq.add(BatchNormalization())\n",
    "\n",
    "seq.add(Conv2D(filters=64, kernel_size=(4,4),kernel_initializer='he_normal',padding='same'))\n",
    "seq.add(MaxPooling2D(pool_size=(4,4)))\n",
    "seq.add(Activation(\"relu\"))\n",
    "seq.add(BatchNormalization())\n",
    "\n",
    "seq.add(Conv2D(filters=64, kernel_size=(4,4),kernel_initializer='he_normal',padding='same'))\n",
    "seq.add(MaxPooling2D(pool_size=(4,4)))\n",
    "seq.add(Activation(\"relu\"))\n",
    "seq.add(BatchNormalization())\n",
    "\n",
    "seq.add(Flatten())\n",
    "\n",
    "seq.add(Dense(192,kernel_initializer='he_normal'))\n",
    "seq.add(Activation(\"relu\"))\n",
    "seq.add(BatchNormalization())\n",
    "seq.add(Dropout(.3)) # throw away 30%\n",
    "\n",
    "seq.add(Dense(50,kernel_initializer='he_normal'))\n",
    "seq.add(Activation(\"relu\"))\n",
    "seq.add(Dropout(.2))\n",
    "\n",
    "seq.add(Dense(1,kernel_initializer='he_normal'))\n",
    "\n",
    "seq.compile(loss='mse', optimizer='adam')\n",
    "seq.summary()"
   ]
  },
  {
   "cell_type": "code",
   "execution_count": 5,
   "metadata": {},
   "outputs": [
    {
     "name": "stderr",
     "output_type": "stream",
     "text": [
      "  0%|          | 8/20400 [00:00<04:35, 74.01it/s]"
     ]
    },
    {
     "name": "stdout",
     "output_type": "stream",
     "text": [
      "(480, 640)\n",
      "(32, 3, 480, 640)\n",
      "(32, 3, 1)\n",
      "building video Database\n"
     ]
    },
    {
     "name": "stderr",
     "output_type": "stream",
     "text": [
      "100%|██████████| 20400/20400 [07:35<00:00, 44.75it/s]\n"
     ]
    }
   ],
   "source": [
    "commai_speed_chl_gen().build_video_folder()"
   ]
  },
  {
   "cell_type": "code",
   "execution_count": 4,
   "metadata": {
    "colab": {
     "base_uri": "https://localhost:8080/",
     "height": 293
    },
    "colab_type": "code",
    "id": "W3W-nAyBllJ-",
    "outputId": "421f4fef-88d2-4c83-b01f-3753bdc97c3e"
   },
   "outputs": [
    {
     "name": "stdout",
     "output_type": "stream",
     "text": [
      "(480, 640, 3)\n",
      "(45, 480, 640, 3)\n",
      "(45, 1)\n",
      "train_samples: 8500 \n",
      "test_samples:950 \n",
      "valid_samples: 750\n",
      "(480, 640, 3)\n",
      "(45, 480, 640, 3)\n",
      "(45, 1)\n",
      "(480, 640, 3)\n",
      "(45, 480, 640, 3)\n",
      "(45, 1)\n",
      "(480, 640, 3)\n",
      "(45, 480, 640, 3)\n",
      "(45, 1)\n"
     ]
    }
   ],
   "source": [
    "batch_size=45\n",
    "n_e=60\n",
    "n_frames_train=17000\n",
    "n_frames_test=1900\n",
    "n_frames_valid=1500\n",
    "\n",
    "train_idx,test_idx,valid_idx=commai_speed_chl_gen(n_frames_valid=n_frames_valid,frames_per_sample=2,mode=\"optical_flow_dense\",\n",
    "                    n_frames_test=n_frames_test,n_frames_train=n_frames_train,batch_size=batch_size).get_indexes()\n",
    "\n",
    "load=np.load(open(\"idxes_45bs_opflowdense_17k.np\",\"rb\"))\n",
    "train_idx=load[\"train_idx\"]\n",
    "test_idx=load[\"test_idx\"]\n",
    "valid_idx=load[\"valid_idx\"]\n",
    "\n",
    "train_gen=commai_speed_chl_gen(frame_idx=train_idx,batch_size=batch_size,mode=\"optical_flow_dense\",frames_per_sample=2)\n",
    "test_gen=commai_speed_chl_gen(frame_idx=test_idx,batch_size=batch_size,mode=\"optical_flow_dense\",frames_per_sample=2)\n",
    "valid_gen=commai_speed_chl_gen(frame_idx=valid_idx,batch_size=batch_size,mode=\"optical_flow_dense\",frames_per_sample=2)\n",
    "\n",
    "#np.savez_compressed(open(\"idxes_45bs_opflowdense_17k.np\",\"wb+\"),train_idx=train_idx,test_idx=test_idx,valid_idx=valid_idx)\n",
    "\n"
   ]
  },
  {
   "cell_type": "code",
   "execution_count": null,
   "metadata": {
    "colab": {
     "base_uri": "https://localhost:8080/",
     "height": 1000
    },
    "colab_type": "code",
    "id": "rGNtUegiyxTO",
    "outputId": "9afa4031-b514-436e-e021-72316dce37fb",
    "scrolled": true
   },
   "outputs": [
    {
     "name": "stdout",
     "output_type": "stream",
     "text": [
      "WARNING:tensorflow:From <ipython-input-7-d615e1cb100e>:12: Model.fit_generator (from tensorflow.python.keras.engine.training) is deprecated and will be removed in a future version.\n",
      "Instructions for updating:\n",
      "Please use Model.fit, which supports generators.\n",
      "Epoch 1/60\n",
      "WARNING:tensorflow:multiprocessing can interact badly with TensorFlow, causing nondeterministic deadlocks. For high performance data pipelines tf.data is recommended.\n",
      "187/188 [============================>.] - ETA: 0s - loss: 66.3586WARNING:tensorflow:multiprocessing can interact badly with TensorFlow, causing nondeterministic deadlocks. For high performance data pipelines tf.data is recommended.\n",
      "188/188 [==============================] - ETA: 0s - loss: 66.2430WARNING:tensorflow:multiprocessing can interact badly with TensorFlow, causing nondeterministic deadlocks. For high performance data pipelines tf.data is recommended.\n",
      "WARNING:tensorflow:multiprocessing can interact badly with TensorFlow, causing nondeterministic deadlocks. For high performance data pipelines tf.data is recommended.\n",
      "\n",
      "Epoch 00001: saving model to STACKED_CNN_2FPS_Block_approach_45bs-HE_norm-op_flow_dense-RGB-17k-01-33.52-66.24.hdf5\n",
      "188/188 [==============================] - 257s 1s/step - loss: 66.2430 - val_loss: 33.5168\n",
      "Epoch 2/60\n",
      "WARNING:tensorflow:multiprocessing can interact badly with TensorFlow, causing nondeterministic deadlocks. For high performance data pipelines tf.data is recommended.\n",
      "187/188 [============================>.] - ETA: 1s - loss: 38.7655WARNING:tensorflow:multiprocessing can interact badly with TensorFlow, causing nondeterministic deadlocks. For high performance data pipelines tf.data is recommended.\n",
      "188/188 [==============================] - ETA: 0s - loss: 39.1821WARNING:tensorflow:multiprocessing can interact badly with TensorFlow, causing nondeterministic deadlocks. For high performance data pipelines tf.data is recommended.\n",
      "WARNING:tensorflow:multiprocessing can interact badly with TensorFlow, causing nondeterministic deadlocks. For high performance data pipelines tf.data is recommended.\n",
      "\n",
      "Epoch 00002: saving model to STACKED_CNN_2FPS_Block_approach_45bs-HE_norm-op_flow_dense-RGB-17k-02-25.50-39.18.hdf5\n",
      "188/188 [==============================] - 280s 1s/step - loss: 39.1821 - val_loss: 25.5031\n",
      "Epoch 3/60\n",
      "WARNING:tensorflow:multiprocessing can interact badly with TensorFlow, causing nondeterministic deadlocks. For high performance data pipelines tf.data is recommended.\n",
      "187/188 [============================>.] - ETA: 0s - loss: 30.8740WARNING:tensorflow:multiprocessing can interact badly with TensorFlow, causing nondeterministic deadlocks. For high performance data pipelines tf.data is recommended.\n",
      "188/188 [==============================] - ETA: 0s - loss: 30.8365WARNING:tensorflow:multiprocessing can interact badly with TensorFlow, causing nondeterministic deadlocks. For high performance data pipelines tf.data is recommended.\n",
      "WARNING:tensorflow:multiprocessing can interact badly with TensorFlow, causing nondeterministic deadlocks. For high performance data pipelines tf.data is recommended.\n",
      "\n",
      "Epoch 00003: saving model to STACKED_CNN_2FPS_Block_approach_45bs-HE_norm-op_flow_dense-RGB-17k-03-14.60-30.84.hdf5\n",
      "188/188 [==============================] - 268s 1s/step - loss: 30.8365 - val_loss: 14.6038\n",
      "Epoch 4/60\n",
      "WARNING:tensorflow:multiprocessing can interact badly with TensorFlow, causing nondeterministic deadlocks. For high performance data pipelines tf.data is recommended.\n",
      "187/188 [============================>.] - ETA: 0s - loss: 26.6122WARNING:tensorflow:multiprocessing can interact badly with TensorFlow, causing nondeterministic deadlocks. For high performance data pipelines tf.data is recommended.\n",
      "188/188 [==============================] - ETA: 0s - loss: 26.5835WARNING:tensorflow:multiprocessing can interact badly with TensorFlow, causing nondeterministic deadlocks. For high performance data pipelines tf.data is recommended.\n",
      "WARNING:tensorflow:multiprocessing can interact badly with TensorFlow, causing nondeterministic deadlocks. For high performance data pipelines tf.data is recommended.\n",
      "\n",
      "Epoch 00004: saving model to STACKED_CNN_2FPS_Block_approach_45bs-HE_norm-op_flow_dense-RGB-17k-04-18.66-26.58.hdf5\n",
      "188/188 [==============================] - 271s 1s/step - loss: 26.5835 - val_loss: 18.6553\n",
      "Epoch 5/60\n",
      "WARNING:tensorflow:multiprocessing can interact badly with TensorFlow, causing nondeterministic deadlocks. For high performance data pipelines tf.data is recommended.\n",
      "187/188 [============================>.] - ETA: 0s - loss: 21.5786WARNING:tensorflow:multiprocessing can interact badly with TensorFlow, causing nondeterministic deadlocks. For high performance data pipelines tf.data is recommended.\n",
      "188/188 [==============================] - ETA: 0s - loss: 21.5893WARNING:tensorflow:multiprocessing can interact badly with TensorFlow, causing nondeterministic deadlocks. For high performance data pipelines tf.data is recommended.\n",
      "WARNING:tensorflow:multiprocessing can interact badly with TensorFlow, causing nondeterministic deadlocks. For high performance data pipelines tf.data is recommended.\n",
      "\n",
      "Epoch 00005: saving model to STACKED_CNN_2FPS_Block_approach_45bs-HE_norm-op_flow_dense-RGB-17k-05-16.94-21.59.hdf5\n",
      "188/188 [==============================] - 263s 1s/step - loss: 21.5893 - val_loss: 16.9369\n",
      "Epoch 6/60\n",
      "WARNING:tensorflow:multiprocessing can interact badly with TensorFlow, causing nondeterministic deadlocks. For high performance data pipelines tf.data is recommended.\n",
      "187/188 [============================>.] - ETA: 1s - loss: 19.0810WARNING:tensorflow:multiprocessing can interact badly with TensorFlow, causing nondeterministic deadlocks. For high performance data pipelines tf.data is recommended.\n",
      "188/188 [==============================] - ETA: 0s - loss: 19.0471WARNING:tensorflow:multiprocessing can interact badly with TensorFlow, causing nondeterministic deadlocks. For high performance data pipelines tf.data is recommended.\n",
      "WARNING:tensorflow:multiprocessing can interact badly with TensorFlow, causing nondeterministic deadlocks. For high performance data pipelines tf.data is recommended.\n",
      "\n",
      "Epoch 00006: saving model to STACKED_CNN_2FPS_Block_approach_45bs-HE_norm-op_flow_dense-RGB-17k-06-13.69-19.05.hdf5\n",
      "188/188 [==============================] - 287s 2s/step - loss: 19.0471 - val_loss: 13.6876\n",
      "Epoch 7/60\n",
      "WARNING:tensorflow:multiprocessing can interact badly with TensorFlow, causing nondeterministic deadlocks. For high performance data pipelines tf.data is recommended.\n",
      "187/188 [============================>.] - ETA: 0s - loss: 17.3775WARNING:tensorflow:multiprocessing can interact badly with TensorFlow, causing nondeterministic deadlocks. For high performance data pipelines tf.data is recommended.\n",
      "188/188 [==============================] - ETA: 0s - loss: 17.3857WARNING:tensorflow:multiprocessing can interact badly with TensorFlow, causing nondeterministic deadlocks. For high performance data pipelines tf.data is recommended.\n",
      "WARNING:tensorflow:multiprocessing can interact badly with TensorFlow, causing nondeterministic deadlocks. For high performance data pipelines tf.data is recommended.\n",
      "\n",
      "Epoch 00007: saving model to STACKED_CNN_2FPS_Block_approach_45bs-HE_norm-op_flow_dense-RGB-17k-07-10.87-17.39.hdf5\n",
      "188/188 [==============================] - 265s 1s/step - loss: 17.3857 - val_loss: 10.8680\n",
      "Epoch 8/60\n",
      "WARNING:tensorflow:multiprocessing can interact badly with TensorFlow, causing nondeterministic deadlocks. For high performance data pipelines tf.data is recommended.\n",
      "187/188 [============================>.] - ETA: 0s - loss: 15.7114WARNING:tensorflow:multiprocessing can interact badly with TensorFlow, causing nondeterministic deadlocks. For high performance data pipelines tf.data is recommended.\n",
      "188/188 [==============================] - ETA: 0s - loss: 15.7027WARNING:tensorflow:multiprocessing can interact badly with TensorFlow, causing nondeterministic deadlocks. For high performance data pipelines tf.data is recommended.\n",
      "WARNING:tensorflow:multiprocessing can interact badly with TensorFlow, causing nondeterministic deadlocks. For high performance data pipelines tf.data is recommended.\n"
     ]
    },
    {
     "name": "stdout",
     "output_type": "stream",
     "text": [
      "\n",
      "Epoch 00008: saving model to STACKED_CNN_2FPS_Block_approach_45bs-HE_norm-op_flow_dense-RGB-17k-08-10.23-15.70.hdf5\n",
      "188/188 [==============================] - 270s 1s/step - loss: 15.7027 - val_loss: 10.2328\n",
      "Epoch 9/60\n",
      "WARNING:tensorflow:multiprocessing can interact badly with TensorFlow, causing nondeterministic deadlocks. For high performance data pipelines tf.data is recommended.\n",
      "187/188 [============================>.] - ETA: 1s - loss: 14.1346WARNING:tensorflow:multiprocessing can interact badly with TensorFlow, causing nondeterministic deadlocks. For high performance data pipelines tf.data is recommended.\n",
      "188/188 [==============================] - ETA: 0s - loss: 14.2263WARNING:tensorflow:multiprocessing can interact badly with TensorFlow, causing nondeterministic deadlocks. For high performance data pipelines tf.data is recommended.\n",
      "WARNING:tensorflow:multiprocessing can interact badly with TensorFlow, causing nondeterministic deadlocks. For high performance data pipelines tf.data is recommended.\n",
      "\n",
      "Epoch 00009: saving model to STACKED_CNN_2FPS_Block_approach_45bs-HE_norm-op_flow_dense-RGB-17k-09-8.08-14.23.hdf5\n",
      "188/188 [==============================] - 293s 2s/step - loss: 14.2263 - val_loss: 8.0759\n",
      "Epoch 10/60\n",
      "WARNING:tensorflow:multiprocessing can interact badly with TensorFlow, causing nondeterministic deadlocks. For high performance data pipelines tf.data is recommended.\n",
      "187/188 [============================>.] - ETA: 0s - loss: 12.4096WARNING:tensorflow:multiprocessing can interact badly with TensorFlow, causing nondeterministic deadlocks. For high performance data pipelines tf.data is recommended.\n",
      "188/188 [==============================] - ETA: 0s - loss: 12.4784WARNING:tensorflow:multiprocessing can interact badly with TensorFlow, causing nondeterministic deadlocks. For high performance data pipelines tf.data is recommended.\n",
      "WARNING:tensorflow:multiprocessing can interact badly with TensorFlow, causing nondeterministic deadlocks. For high performance data pipelines tf.data is recommended.\n",
      "\n",
      "Epoch 00010: saving model to STACKED_CNN_2FPS_Block_approach_45bs-HE_norm-op_flow_dense-RGB-17k-10-8.51-12.48.hdf5\n",
      "188/188 [==============================] - 277s 1s/step - loss: 12.4784 - val_loss: 8.5126\n",
      "Epoch 11/60\n",
      "WARNING:tensorflow:multiprocessing can interact badly with TensorFlow, causing nondeterministic deadlocks. For high performance data pipelines tf.data is recommended.\n",
      "187/188 [============================>.] - ETA: 0s - loss: 11.7161WARNING:tensorflow:multiprocessing can interact badly with TensorFlow, causing nondeterministic deadlocks. For high performance data pipelines tf.data is recommended.\n",
      "188/188 [==============================] - ETA: 0s - loss: 11.6934WARNING:tensorflow:multiprocessing can interact badly with TensorFlow, causing nondeterministic deadlocks. For high performance data pipelines tf.data is recommended.\n",
      "WARNING:tensorflow:multiprocessing can interact badly with TensorFlow, causing nondeterministic deadlocks. For high performance data pipelines tf.data is recommended.\n",
      "\n",
      "Epoch 00011: saving model to STACKED_CNN_2FPS_Block_approach_45bs-HE_norm-op_flow_dense-RGB-17k-11-8.55-11.69.hdf5\n",
      "188/188 [==============================] - 277s 1s/step - loss: 11.6934 - val_loss: 8.5516\n",
      "Epoch 12/60\n",
      "WARNING:tensorflow:multiprocessing can interact badly with TensorFlow, causing nondeterministic deadlocks. For high performance data pipelines tf.data is recommended.\n",
      "187/188 [============================>.] - ETA: 0s - loss: 11.1193WARNING:tensorflow:multiprocessing can interact badly with TensorFlow, causing nondeterministic deadlocks. For high performance data pipelines tf.data is recommended.\n",
      "188/188 [==============================] - ETA: 0s - loss: 11.1352WARNING:tensorflow:multiprocessing can interact badly with TensorFlow, causing nondeterministic deadlocks. For high performance data pipelines tf.data is recommended.\n",
      "WARNING:tensorflow:multiprocessing can interact badly with TensorFlow, causing nondeterministic deadlocks. For high performance data pipelines tf.data is recommended.\n",
      "\n",
      "Epoch 00012: saving model to STACKED_CNN_2FPS_Block_approach_45bs-HE_norm-op_flow_dense-RGB-17k-12-7.97-11.14.hdf5\n",
      "188/188 [==============================] - 268s 1s/step - loss: 11.1352 - val_loss: 7.9729\n",
      "Epoch 13/60\n",
      "WARNING:tensorflow:multiprocessing can interact badly with TensorFlow, causing nondeterministic deadlocks. For high performance data pipelines tf.data is recommended.\n",
      "187/188 [============================>.] - ETA: 1s - loss: 10.4644WARNING:tensorflow:multiprocessing can interact badly with TensorFlow, causing nondeterministic deadlocks. For high performance data pipelines tf.data is recommended.\n",
      "188/188 [==============================] - ETA: 0s - loss: 10.4418WARNING:tensorflow:multiprocessing can interact badly with TensorFlow, causing nondeterministic deadlocks. For high performance data pipelines tf.data is recommended.\n",
      "WARNING:tensorflow:multiprocessing can interact badly with TensorFlow, causing nondeterministic deadlocks. For high performance data pipelines tf.data is recommended.\n",
      "\n",
      "Epoch 00013: saving model to STACKED_CNN_2FPS_Block_approach_45bs-HE_norm-op_flow_dense-RGB-17k-13-7.96-10.44.hdf5\n",
      "188/188 [==============================] - 290s 2s/step - loss: 10.4418 - val_loss: 7.9610\n",
      "Epoch 14/60\n",
      "WARNING:tensorflow:multiprocessing can interact badly with TensorFlow, causing nondeterministic deadlocks. For high performance data pipelines tf.data is recommended.\n",
      "187/188 [============================>.] - ETA: 0s - loss: 9.9809WARNING:tensorflow:multiprocessing can interact badly with TensorFlow, causing nondeterministic deadlocks. For high performance data pipelines tf.data is recommended.\n",
      "188/188 [==============================] - ETA: 0s - loss: 9.9578WARNING:tensorflow:multiprocessing can interact badly with TensorFlow, causing nondeterministic deadlocks. For high performance data pipelines tf.data is recommended.\n",
      "WARNING:tensorflow:multiprocessing can interact badly with TensorFlow, causing nondeterministic deadlocks. For high performance data pipelines tf.data is recommended.\n",
      "\n",
      "Epoch 00014: saving model to STACKED_CNN_2FPS_Block_approach_45bs-HE_norm-op_flow_dense-RGB-17k-14-7.13-9.96.hdf5\n",
      "188/188 [==============================] - 265s 1s/step - loss: 9.9578 - val_loss: 7.1277\n",
      "Epoch 15/60\n",
      "WARNING:tensorflow:multiprocessing can interact badly with TensorFlow, causing nondeterministic deadlocks. For high performance data pipelines tf.data is recommended.\n",
      "187/188 [============================>.] - ETA: 0s - loss: 9.4741WARNING:tensorflow:multiprocessing can interact badly with TensorFlow, causing nondeterministic deadlocks. For high performance data pipelines tf.data is recommended.\n",
      "188/188 [==============================] - ETA: 0s - loss: 9.4941WARNING:tensorflow:multiprocessing can interact badly with TensorFlow, causing nondeterministic deadlocks. For high performance data pipelines tf.data is recommended.\n",
      "WARNING:tensorflow:multiprocessing can interact badly with TensorFlow, causing nondeterministic deadlocks. For high performance data pipelines tf.data is recommended.\n",
      "\n",
      "Epoch 00015: saving model to STACKED_CNN_2FPS_Block_approach_45bs-HE_norm-op_flow_dense-RGB-17k-15-8.21-9.49.hdf5\n",
      "188/188 [==============================] - 266s 1s/step - loss: 9.4941 - val_loss: 8.2148\n",
      "Epoch 16/60\n",
      "WARNING:tensorflow:multiprocessing can interact badly with TensorFlow, causing nondeterministic deadlocks. For high performance data pipelines tf.data is recommended.\n",
      "187/188 [============================>.] - ETA: 1s - loss: 8.9009WARNING:tensorflow:multiprocessing can interact badly with TensorFlow, causing nondeterministic deadlocks. For high performance data pipelines tf.data is recommended.\n",
      "188/188 [==============================] - ETA: 0s - loss: 8.9058WARNING:tensorflow:multiprocessing can interact badly with TensorFlow, causing nondeterministic deadlocks. For high performance data pipelines tf.data is recommended.\n",
      "WARNING:tensorflow:multiprocessing can interact badly with TensorFlow, causing nondeterministic deadlocks. For high performance data pipelines tf.data is recommended.\n",
      "\n",
      "Epoch 00016: saving model to STACKED_CNN_2FPS_Block_approach_45bs-HE_norm-op_flow_dense-RGB-17k-16-6.88-8.91.hdf5\n"
     ]
    },
    {
     "name": "stdout",
     "output_type": "stream",
     "text": [
      "188/188 [==============================] - 280s 1s/step - loss: 8.9058 - val_loss: 6.8769\n",
      "Epoch 17/60\n",
      "WARNING:tensorflow:multiprocessing can interact badly with TensorFlow, causing nondeterministic deadlocks. For high performance data pipelines tf.data is recommended.\n",
      "187/188 [============================>.] - ETA: 1s - loss: 8.6911WARNING:tensorflow:multiprocessing can interact badly with TensorFlow, causing nondeterministic deadlocks. For high performance data pipelines tf.data is recommended.\n",
      "188/188 [==============================] - ETA: 0s - loss: 8.6828WARNING:tensorflow:multiprocessing can interact badly with TensorFlow, causing nondeterministic deadlocks. For high performance data pipelines tf.data is recommended.\n",
      "WARNING:tensorflow:multiprocessing can interact badly with TensorFlow, causing nondeterministic deadlocks. For high performance data pipelines tf.data is recommended.\n",
      "\n",
      "Epoch 00017: saving model to STACKED_CNN_2FPS_Block_approach_45bs-HE_norm-op_flow_dense-RGB-17k-17-7.64-8.68.hdf5\n",
      "188/188 [==============================] - 289s 2s/step - loss: 8.6828 - val_loss: 7.6401\n",
      "Epoch 18/60\n",
      "WARNING:tensorflow:multiprocessing can interact badly with TensorFlow, causing nondeterministic deadlocks. For high performance data pipelines tf.data is recommended.\n",
      "187/188 [============================>.] - ETA: 0s - loss: 8.4600WARNING:tensorflow:multiprocessing can interact badly with TensorFlow, causing nondeterministic deadlocks. For high performance data pipelines tf.data is recommended.\n",
      "188/188 [==============================] - ETA: 0s - loss: 8.4335WARNING:tensorflow:multiprocessing can interact badly with TensorFlow, causing nondeterministic deadlocks. For high performance data pipelines tf.data is recommended.\n",
      "WARNING:tensorflow:multiprocessing can interact badly with TensorFlow, causing nondeterministic deadlocks. For high performance data pipelines tf.data is recommended.\n",
      "\n",
      "Epoch 00018: saving model to STACKED_CNN_2FPS_Block_approach_45bs-HE_norm-op_flow_dense-RGB-17k-18-8.78-8.43.hdf5\n",
      "188/188 [==============================] - 269s 1s/step - loss: 8.4335 - val_loss: 8.7762\n",
      "Epoch 19/60\n",
      "WARNING:tensorflow:multiprocessing can interact badly with TensorFlow, causing nondeterministic deadlocks. For high performance data pipelines tf.data is recommended.\n",
      "187/188 [============================>.] - ETA: 0s - loss: 7.9640WARNING:tensorflow:multiprocessing can interact badly with TensorFlow, causing nondeterministic deadlocks. For high performance data pipelines tf.data is recommended.\n",
      "188/188 [==============================] - ETA: 0s - loss: 7.9678WARNING:tensorflow:multiprocessing can interact badly with TensorFlow, causing nondeterministic deadlocks. For high performance data pipelines tf.data is recommended.\n",
      "WARNING:tensorflow:multiprocessing can interact badly with TensorFlow, causing nondeterministic deadlocks. For high performance data pipelines tf.data is recommended.\n",
      "\n",
      "Epoch 00019: saving model to STACKED_CNN_2FPS_Block_approach_45bs-HE_norm-op_flow_dense-RGB-17k-19-6.24-7.97.hdf5\n",
      "188/188 [==============================] - 264s 1s/step - loss: 7.9678 - val_loss: 6.2428\n",
      "Epoch 20/60\n",
      "WARNING:tensorflow:multiprocessing can interact badly with TensorFlow, causing nondeterministic deadlocks. For high performance data pipelines tf.data is recommended.\n",
      "187/188 [============================>.] - ETA: 0s - loss: 7.7409WARNING:tensorflow:multiprocessing can interact badly with TensorFlow, causing nondeterministic deadlocks. For high performance data pipelines tf.data is recommended.\n",
      "188/188 [==============================] - ETA: 0s - loss: 7.7625WARNING:tensorflow:multiprocessing can interact badly with TensorFlow, causing nondeterministic deadlocks. For high performance data pipelines tf.data is recommended.\n",
      "WARNING:tensorflow:multiprocessing can interact badly with TensorFlow, causing nondeterministic deadlocks. For high performance data pipelines tf.data is recommended.\n",
      "\n",
      "Epoch 00020: saving model to STACKED_CNN_2FPS_Block_approach_45bs-HE_norm-op_flow_dense-RGB-17k-20-7.45-7.76.hdf5\n",
      "188/188 [==============================] - 263s 1s/step - loss: 7.7625 - val_loss: 7.4461\n",
      "Epoch 21/60\n",
      "WARNING:tensorflow:multiprocessing can interact badly with TensorFlow, causing nondeterministic deadlocks. For high performance data pipelines tf.data is recommended.\n",
      "187/188 [============================>.] - ETA: 1s - loss: 7.6948WARNING:tensorflow:multiprocessing can interact badly with TensorFlow, causing nondeterministic deadlocks. For high performance data pipelines tf.data is recommended.\n",
      "188/188 [==============================] - ETA: 0s - loss: 7.6737WARNING:tensorflow:multiprocessing can interact badly with TensorFlow, causing nondeterministic deadlocks. For high performance data pipelines tf.data is recommended.\n",
      "WARNING:tensorflow:multiprocessing can interact badly with TensorFlow, causing nondeterministic deadlocks. For high performance data pipelines tf.data is recommended.\n",
      "\n",
      "Epoch 00021: saving model to STACKED_CNN_2FPS_Block_approach_45bs-HE_norm-op_flow_dense-RGB-17k-21-5.91-7.67.hdf5\n",
      "188/188 [==============================] - 276s 1s/step - loss: 7.6737 - val_loss: 5.9085\n",
      "Epoch 22/60\n",
      "WARNING:tensorflow:multiprocessing can interact badly with TensorFlow, causing nondeterministic deadlocks. For high performance data pipelines tf.data is recommended.\n",
      "187/188 [============================>.] - ETA: 1s - loss: 7.3497WARNING:tensorflow:multiprocessing can interact badly with TensorFlow, causing nondeterministic deadlocks. For high performance data pipelines tf.data is recommended.\n",
      "188/188 [==============================] - ETA: 0s - loss: 7.3443WARNING:tensorflow:multiprocessing can interact badly with TensorFlow, causing nondeterministic deadlocks. For high performance data pipelines tf.data is recommended.\n",
      "WARNING:tensorflow:multiprocessing can interact badly with TensorFlow, causing nondeterministic deadlocks. For high performance data pipelines tf.data is recommended.\n",
      "\n",
      "Epoch 00022: saving model to STACKED_CNN_2FPS_Block_approach_45bs-HE_norm-op_flow_dense-RGB-17k-22-7.39-7.34.hdf5\n",
      "188/188 [==============================] - 282s 1s/step - loss: 7.3443 - val_loss: 7.3854\n",
      "Epoch 23/60\n",
      "WARNING:tensorflow:multiprocessing can interact badly with TensorFlow, causing nondeterministic deadlocks. For high performance data pipelines tf.data is recommended.\n",
      "187/188 [============================>.] - ETA: 1s - loss: 7.2759WARNING:tensorflow:multiprocessing can interact badly with TensorFlow, causing nondeterministic deadlocks. For high performance data pipelines tf.data is recommended.\n",
      "188/188 [==============================] - ETA: 0s - loss: 7.3169WARNING:tensorflow:multiprocessing can interact badly with TensorFlow, causing nondeterministic deadlocks. For high performance data pipelines tf.data is recommended.\n",
      "WARNING:tensorflow:multiprocessing can interact badly with TensorFlow, causing nondeterministic deadlocks. For high performance data pipelines tf.data is recommended.\n",
      "\n",
      "Epoch 00023: saving model to STACKED_CNN_2FPS_Block_approach_45bs-HE_norm-op_flow_dense-RGB-17k-23-5.66-7.32.hdf5\n",
      "188/188 [==============================] - 292s 2s/step - loss: 7.3169 - val_loss: 5.6591\n",
      "Epoch 24/60\n",
      "WARNING:tensorflow:multiprocessing can interact badly with TensorFlow, causing nondeterministic deadlocks. For high performance data pipelines tf.data is recommended.\n",
      "187/188 [============================>.] - ETA: 1s - loss: 7.3841WARNING:tensorflow:multiprocessing can interact badly with TensorFlow, causing nondeterministic deadlocks. For high performance data pipelines tf.data is recommended.\n",
      "188/188 [==============================] - ETA: 0s - loss: 7.3674WARNING:tensorflow:multiprocessing can interact badly with TensorFlow, causing nondeterministic deadlocks. For high performance data pipelines tf.data is recommended.\n",
      "WARNING:tensorflow:multiprocessing can interact badly with TensorFlow, causing nondeterministic deadlocks. For high performance data pipelines tf.data is recommended.\n",
      "\n",
      "Epoch 00024: saving model to STACKED_CNN_2FPS_Block_approach_45bs-HE_norm-op_flow_dense-RGB-17k-24-7.07-7.37.hdf5\n",
      "188/188 [==============================] - 278s 1s/step - loss: 7.3674 - val_loss: 7.0657\n"
     ]
    },
    {
     "name": "stdout",
     "output_type": "stream",
     "text": [
      "Epoch 25/60\n",
      "WARNING:tensorflow:multiprocessing can interact badly with TensorFlow, causing nondeterministic deadlocks. For high performance data pipelines tf.data is recommended.\n",
      "187/188 [============================>.] - ETA: 1s - loss: 6.8391WARNING:tensorflow:multiprocessing can interact badly with TensorFlow, causing nondeterministic deadlocks. For high performance data pipelines tf.data is recommended.\n",
      "188/188 [==============================] - ETA: 0s - loss: 6.8257WARNING:tensorflow:multiprocessing can interact badly with TensorFlow, causing nondeterministic deadlocks. For high performance data pipelines tf.data is recommended.\n",
      "WARNING:tensorflow:multiprocessing can interact badly with TensorFlow, causing nondeterministic deadlocks. For high performance data pipelines tf.data is recommended.\n",
      "\n",
      "Epoch 00025: saving model to STACKED_CNN_2FPS_Block_approach_45bs-HE_norm-op_flow_dense-RGB-17k-25-6.49-6.83.hdf5\n",
      "188/188 [==============================] - 294s 2s/step - loss: 6.8257 - val_loss: 6.4942\n",
      "Epoch 26/60\n",
      "WARNING:tensorflow:multiprocessing can interact badly with TensorFlow, causing nondeterministic deadlocks. For high performance data pipelines tf.data is recommended.\n",
      "187/188 [============================>.] - ETA: 1s - loss: 6.6780WARNING:tensorflow:multiprocessing can interact badly with TensorFlow, causing nondeterministic deadlocks. For high performance data pipelines tf.data is recommended.\n",
      "188/188 [==============================] - ETA: 0s - loss: 6.6656WARNING:tensorflow:multiprocessing can interact badly with TensorFlow, causing nondeterministic deadlocks. For high performance data pipelines tf.data is recommended.\n",
      "WARNING:tensorflow:multiprocessing can interact badly with TensorFlow, causing nondeterministic deadlocks. For high performance data pipelines tf.data is recommended.\n",
      "\n",
      "Epoch 00026: saving model to STACKED_CNN_2FPS_Block_approach_45bs-HE_norm-op_flow_dense-RGB-17k-26-7.33-6.67.hdf5\n",
      "188/188 [==============================] - 279s 1s/step - loss: 6.6656 - val_loss: 7.3331\n",
      "Epoch 27/60\n",
      "WARNING:tensorflow:multiprocessing can interact badly with TensorFlow, causing nondeterministic deadlocks. For high performance data pipelines tf.data is recommended.\n",
      "187/188 [============================>.] - ETA: 0s - loss: 6.6136WARNING:tensorflow:multiprocessing can interact badly with TensorFlow, causing nondeterministic deadlocks. For high performance data pipelines tf.data is recommended.\n",
      "188/188 [==============================] - ETA: 0s - loss: 6.6106WARNING:tensorflow:multiprocessing can interact badly with TensorFlow, causing nondeterministic deadlocks. For high performance data pipelines tf.data is recommended.\n",
      "WARNING:tensorflow:multiprocessing can interact badly with TensorFlow, causing nondeterministic deadlocks. For high performance data pipelines tf.data is recommended.\n",
      "\n",
      "Epoch 00027: saving model to STACKED_CNN_2FPS_Block_approach_45bs-HE_norm-op_flow_dense-RGB-17k-27-6.84-6.61.hdf5\n",
      "188/188 [==============================] - 254s 1s/step - loss: 6.6106 - val_loss: 6.8441\n",
      "Epoch 28/60\n",
      "WARNING:tensorflow:multiprocessing can interact badly with TensorFlow, causing nondeterministic deadlocks. For high performance data pipelines tf.data is recommended.\n",
      "187/188 [============================>.] - ETA: 1s - loss: 6.4386WARNING:tensorflow:multiprocessing can interact badly with TensorFlow, causing nondeterministic deadlocks. For high performance data pipelines tf.data is recommended.\n",
      "188/188 [==============================] - ETA: 0s - loss: 6.4538WARNING:tensorflow:multiprocessing can interact badly with TensorFlow, causing nondeterministic deadlocks. For high performance data pipelines tf.data is recommended.\n",
      "WARNING:tensorflow:multiprocessing can interact badly with TensorFlow, causing nondeterministic deadlocks. For high performance data pipelines tf.data is recommended.\n",
      "\n",
      "Epoch 00028: saving model to STACKED_CNN_2FPS_Block_approach_45bs-HE_norm-op_flow_dense-RGB-17k-28-5.16-6.45.hdf5\n",
      "188/188 [==============================] - 285s 2s/step - loss: 6.4538 - val_loss: 5.1603\n",
      "Epoch 29/60\n",
      "WARNING:tensorflow:multiprocessing can interact badly with TensorFlow, causing nondeterministic deadlocks. For high performance data pipelines tf.data is recommended.\n",
      "187/188 [============================>.] - ETA: 0s - loss: 6.0833WARNING:tensorflow:multiprocessing can interact badly with TensorFlow, causing nondeterministic deadlocks. For high performance data pipelines tf.data is recommended.\n",
      "188/188 [==============================] - ETA: 0s - loss: 6.0650WARNING:tensorflow:multiprocessing can interact badly with TensorFlow, causing nondeterministic deadlocks. For high performance data pipelines tf.data is recommended.\n",
      "WARNING:tensorflow:multiprocessing can interact badly with TensorFlow, causing nondeterministic deadlocks. For high performance data pipelines tf.data is recommended.\n",
      "\n",
      "Epoch 00029: saving model to STACKED_CNN_2FPS_Block_approach_45bs-HE_norm-op_flow_dense-RGB-17k-29-7.54-6.07.hdf5\n",
      "188/188 [==============================] - 269s 1s/step - loss: 6.0650 - val_loss: 7.5385\n",
      "Epoch 30/60\n",
      "WARNING:tensorflow:multiprocessing can interact badly with TensorFlow, causing nondeterministic deadlocks. For high performance data pipelines tf.data is recommended.\n",
      "187/188 [============================>.] - ETA: 1s - loss: 5.9989WARNING:tensorflow:multiprocessing can interact badly with TensorFlow, causing nondeterministic deadlocks. For high performance data pipelines tf.data is recommended.\n",
      "188/188 [==============================] - ETA: 0s - loss: 5.9782WARNING:tensorflow:multiprocessing can interact badly with TensorFlow, causing nondeterministic deadlocks. For high performance data pipelines tf.data is recommended.\n",
      "WARNING:tensorflow:multiprocessing can interact badly with TensorFlow, causing nondeterministic deadlocks. For high performance data pipelines tf.data is recommended.\n",
      "\n",
      "Epoch 00030: saving model to STACKED_CNN_2FPS_Block_approach_45bs-HE_norm-op_flow_dense-RGB-17k-30-5.17-5.98.hdf5\n",
      "188/188 [==============================] - 281s 1s/step - loss: 5.9782 - val_loss: 5.1690\n",
      "Epoch 31/60\n",
      "WARNING:tensorflow:multiprocessing can interact badly with TensorFlow, causing nondeterministic deadlocks. For high performance data pipelines tf.data is recommended.\n",
      "187/188 [============================>.] - ETA: 0s - loss: 5.9023WARNING:tensorflow:multiprocessing can interact badly with TensorFlow, causing nondeterministic deadlocks. For high performance data pipelines tf.data is recommended.\n",
      "188/188 [==============================] - ETA: 0s - loss: 5.8942WARNING:tensorflow:multiprocessing can interact badly with TensorFlow, causing nondeterministic deadlocks. For high performance data pipelines tf.data is recommended.\n",
      "WARNING:tensorflow:multiprocessing can interact badly with TensorFlow, causing nondeterministic deadlocks. For high performance data pipelines tf.data is recommended.\n",
      "\n",
      "Epoch 00031: saving model to STACKED_CNN_2FPS_Block_approach_45bs-HE_norm-op_flow_dense-RGB-17k-31-6.84-5.89.hdf5\n",
      "188/188 [==============================] - 270s 1s/step - loss: 5.8942 - val_loss: 6.8410\n",
      "Epoch 32/60\n",
      "WARNING:tensorflow:multiprocessing can interact badly with TensorFlow, causing nondeterministic deadlocks. For high performance data pipelines tf.data is recommended.\n",
      "187/188 [============================>.] - ETA: 0s - loss: 5.8356WARNING:tensorflow:multiprocessing can interact badly with TensorFlow, causing nondeterministic deadlocks. For high performance data pipelines tf.data is recommended.\n",
      "188/188 [==============================] - ETA: 0s - loss: 5.8411WARNING:tensorflow:multiprocessing can interact badly with TensorFlow, causing nondeterministic deadlocks. For high performance data pipelines tf.data is recommended.\n",
      "WARNING:tensorflow:multiprocessing can interact badly with TensorFlow, causing nondeterministic deadlocks. For high performance data pipelines tf.data is recommended.\n",
      "\n",
      "Epoch 00032: saving model to STACKED_CNN_2FPS_Block_approach_45bs-HE_norm-op_flow_dense-RGB-17k-32-7.45-5.84.hdf5\n",
      "188/188 [==============================] - 269s 1s/step - loss: 5.8411 - val_loss: 7.4522\n",
      "Epoch 33/60\n",
      "WARNING:tensorflow:multiprocessing can interact badly with TensorFlow, causing nondeterministic deadlocks. For high performance data pipelines tf.data is recommended.\n"
     ]
    },
    {
     "name": "stdout",
     "output_type": "stream",
     "text": [
      "187/188 [============================>.] - ETA: 0s - loss: 5.9965WARNING:tensorflow:multiprocessing can interact badly with TensorFlow, causing nondeterministic deadlocks. For high performance data pipelines tf.data is recommended.\n",
      "188/188 [==============================] - ETA: 0s - loss: 5.9918WARNING:tensorflow:multiprocessing can interact badly with TensorFlow, causing nondeterministic deadlocks. For high performance data pipelines tf.data is recommended.\n",
      "WARNING:tensorflow:multiprocessing can interact badly with TensorFlow, causing nondeterministic deadlocks. For high performance data pipelines tf.data is recommended.\n",
      "\n",
      "Epoch 00033: saving model to STACKED_CNN_2FPS_Block_approach_45bs-HE_norm-op_flow_dense-RGB-17k-33-8.30-5.99.hdf5\n",
      "188/188 [==============================] - 268s 1s/step - loss: 5.9918 - val_loss: 8.2974\n",
      "Epoch 34/60\n",
      "WARNING:tensorflow:multiprocessing can interact badly with TensorFlow, causing nondeterministic deadlocks. For high performance data pipelines tf.data is recommended.\n",
      "187/188 [============================>.] - ETA: 1s - loss: 5.8076WARNING:tensorflow:multiprocessing can interact badly with TensorFlow, causing nondeterministic deadlocks. For high performance data pipelines tf.data is recommended.\n",
      "188/188 [==============================] - ETA: 0s - loss: 5.8119WARNING:tensorflow:multiprocessing can interact badly with TensorFlow, causing nondeterministic deadlocks. For high performance data pipelines tf.data is recommended.\n",
      "WARNING:tensorflow:multiprocessing can interact badly with TensorFlow, causing nondeterministic deadlocks. For high performance data pipelines tf.data is recommended.\n",
      "\n",
      "Epoch 00034: saving model to STACKED_CNN_2FPS_Block_approach_45bs-HE_norm-op_flow_dense-RGB-17k-34-5.82-5.81.hdf5\n",
      "188/188 [==============================] - 298s 2s/step - loss: 5.8119 - val_loss: 5.8238\n",
      "Epoch 35/60\n",
      "WARNING:tensorflow:multiprocessing can interact badly with TensorFlow, causing nondeterministic deadlocks. For high performance data pipelines tf.data is recommended.\n",
      " 24/188 [==>...........................] - ETA: 2:41 - loss: 5.7420"
     ]
    }
   ],
   "source": [
    "ie=0\n",
    "filepath=\"STACKED_CNN_2FPS_Block_approach_45bs-HE_norm-op_flow_dense-RGB-17k-{epoch:02d}-{val_loss:.2f}-{loss:.2f}.hdf5\"\n",
    "checkpoint = tf.keras.callbacks.ModelCheckpoint(filepath, monitor='val_loss', verbose=1, save_best_only=False)\n",
    "\n",
    "tb=tf.keras.callbacks.TensorBoard(\n",
    "    log_dir='STACKED_CNN_2FPS_Block_approach_45bs-HE_norm-op_flow_dense-RGB-17k', histogram_freq=1, write_graph=True, write_images=False,\n",
    "    update_freq=10, profile_batch=0, embeddings_freq=0\n",
    ")\n",
    "\n",
    "cbs=[checkpoint,tb]\n",
    "hst=seq.fit_generator(train_gen, epochs=n_e,workers=25,max_queue_size=85,\n",
    "        use_multiprocessing=True,validation_data=test_gen,callbacks=cbs,verbose=1,shuffle=True, initial_epoch=ie)"
   ]
  },
  {
   "cell_type": "code",
   "execution_count": 6,
   "metadata": {},
   "outputs": [
    {
     "name": "stdout",
     "output_type": "stream",
     "text": [
      "WARNING:tensorflow:From <ipython-input-6-1616c9e56998>:3: Model.evaluate_generator (from tensorflow.python.keras.engine.training) is deprecated and will be removed in a future version.\n",
      "Instructions for updating:\n",
      "Please use Model.evaluate, which supports generators.\n",
      "17/16 - 15s - loss: 6.6374\n"
     ]
    },
    {
     "data": {
      "text/plain": [
       "6.637359619140625"
      ]
     },
     "execution_count": 6,
     "metadata": {},
     "output_type": "execute_result"
    }
   ],
   "source": [
    "#34 Epoches\n",
    "seq=load_model(\"STACKED_CNN_2FPS_Block_approach_45bs-HE_norm-op_flow_dense-RGB-17k-34-5.82-5.81.hdf5\")\n",
    "seq.evaluate_generator(valid_gen,n_frames_valid/batch_size/2, max_queue_size = 80,workers = 10,verbose=2)"
   ]
  },
  {
   "cell_type": "code",
   "execution_count": 7,
   "metadata": {},
   "outputs": [
    {
     "name": "stdout",
     "output_type": "stream",
     "text": [
      "17/16 - 17s - loss: 7.8507\n"
     ]
    },
    {
     "data": {
      "text/plain": [
       "7.85069465637207"
      ]
     },
     "execution_count": 7,
     "metadata": {},
     "output_type": "execute_result"
    }
   ],
   "source": [
    "#27 Epoches\n",
    "seq=load_model(\"STACKED_CNN_2FPS_Block_approach_45bs-HE_norm-op_flow_dense-RGB-17k-27-6.84-6.61.hdf5\")\n",
    "seq.evaluate_generator(valid_gen,n_frames_valid/batch_size/2, max_queue_size = 80,workers = 10,verbose=2)"
   ]
  }
 ],
 "metadata": {
  "accelerator": "GPU",
  "colab": {
   "collapsed_sections": [],
   "name": "new_gen_convLSTM2D-GRU-Shallow-DENSEOUT-EvenMoreMax_dropout-21bs-BatchNorm-Pool2D-8KS-TDConv2DB4_INPUTS4KS-IMNORM.ipynb",
   "provenance": []
  },
  "kernelspec": {
   "display_name": "Python 3",
   "language": "python",
   "name": "python3"
  },
  "language_info": {
   "codemirror_mode": {
    "name": "ipython",
    "version": 3
   },
   "file_extension": ".py",
   "mimetype": "text/x-python",
   "name": "python",
   "nbconvert_exporter": "python",
   "pygments_lexer": "ipython3",
   "version": "3.6.9"
  }
 },
 "nbformat": 4,
 "nbformat_minor": 1
}
